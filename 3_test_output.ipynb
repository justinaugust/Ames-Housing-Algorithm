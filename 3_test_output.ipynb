{
 "cells": [
  {
   "cell_type": "code",
   "execution_count": 1,
   "metadata": {},
   "outputs": [],
   "source": [
    "import pandas as pd\n",
    "import numpy as np\n",
    "from sklearn.linear_model import LinearRegression, LassoCV, RidgeCV\n",
    "from sklearn.model_selection import train_test_split, KFold, cross_val_score\n",
    "import scipy.stats as stats\n",
    "import modeling\n",
    "import seaborn as sns\n",
    "from sklearn.preprocessing import StandardScaler, PolynomialFeatures\n",
    "\n"
   ]
  },
  {
   "cell_type": "code",
   "execution_count": 2,
   "metadata": {},
   "outputs": [],
   "source": [
    "df = pd.read_csv('datasets/train_cleaned.csv')\n",
    "df_test = pd.read_csv('datasets/test_cleaned.csv')\n",
    "model_df = pd.read_csv('datasets/models.csv')\n",
    "model_columns = ['model_id',\n",
    "        'features_used',\n",
    "        'target',\n",
    "        'random_state',\n",
    "        'model_type',\n",
    "        'random_state',\n",
    "        'scaled',\n",
    "        'alpha',\n",
    "        'coeffs',\n",
    "        'train_score',\n",
    "        'test_score',\n",
    "        'cross_val_score',\n",
    "        'output']\n",
    "model_df = pd.DataFrame(columns = model_columns)"
   ]
  },
  {
   "cell_type": "code",
   "execution_count": 3,
   "metadata": {},
   "outputs": [
    {
     "data": {
      "text/plain": [
       "(2051, 246)"
      ]
     },
     "execution_count": 3,
     "metadata": {},
     "output_type": "execute_result"
    }
   ],
   "source": [
    "df.shape"
   ]
  },
  {
   "cell_type": "code",
   "execution_count": 4,
   "metadata": {},
   "outputs": [
    {
     "data": {
      "text/plain": [
       "(879, 221)"
      ]
     },
     "execution_count": 4,
     "metadata": {},
     "output_type": "execute_result"
    }
   ],
   "source": [
    "df_test.shape"
   ]
  },
  {
   "cell_type": "code",
   "execution_count": 5,
   "metadata": {},
   "outputs": [],
   "source": [
    "features1 = ['overall_qual',\n",
    "            'gr_liv_area',\n",
    "            '1st_flr_sf']"
   ]
  },
  {
   "cell_type": "code",
   "execution_count": 7,
   "metadata": {},
   "outputs": [
    {
     "name": "stdout",
     "output_type": "stream",
     "text": [
      "Training Data Score: 0.7492925149435228\n",
      "Test Data Score: 0.7670489914732018\n",
      "Cross Validation Score: 0.7413236900021387\n"
     ]
    }
   ],
   "source": [
    "target='saleprice'\n",
    "model_df = modeling.new_test(df = df,\n",
    "        test_df = df_test,\n",
    "        features = features1,\n",
    "        target = target,\n",
    "         random_state = 1,\n",
    "         model_type = LinearRegression,\n",
    "         model_df = model_df,\n",
    "        scaled=False,\n",
    "        )"
   ]
  },
  {
   "cell_type": "code",
   "execution_count": 8,
   "metadata": {},
   "outputs": [
    {
     "name": "stdout",
     "output_type": "stream",
     "text": [
      "Training Data Score: 0.7626764715171982\n",
      "Test Data Score: 0.7827756872731829\n",
      "Cross Validation Score: 0.7578495821578676\n"
     ]
    }
   ],
   "source": [
    "\n",
    "model_df = modeling.new_test(df = df,\n",
    "        test_df = df_test,\n",
    "        features = features1,\n",
    "        target = 'logsaleprice',\n",
    "         random_state = 1,\n",
    "         model_type = LinearRegression,\n",
    "         model_df = model_df,\n",
    "        scaled=False,\n",
    "        )"
   ]
  },
  {
   "cell_type": "code",
   "execution_count": 9,
   "metadata": {},
   "outputs": [
    {
     "name": "stderr",
     "output_type": "stream",
     "text": [
      "/Users/justinaugust/.conda/envs/dsi/lib/python3.7/site-packages/sklearn/preprocessing/data.py:625: DataConversionWarning: Data with input dtype int64 were all converted to float64 by StandardScaler.\n",
      "  return self.partial_fit(X, y)\n",
      "/Users/justinaugust/.conda/envs/dsi/lib/python3.7/site-packages/sklearn/base.py:462: DataConversionWarning: Data with input dtype int64 were all converted to float64 by StandardScaler.\n",
      "  return self.fit(X, **fit_params).transform(X)\n",
      "/Users/justinaugust/ga-dsi/projects/project_2/modeling.py:35: DataConversionWarning: Data with input dtype int64 were all converted to float64 by StandardScaler.\n",
      "  X_test = ss.transform(X_test)\n"
     ]
    },
    {
     "name": "stdout",
     "output_type": "stream",
     "text": [
      "Training Data Score: 0.7626334946032649\n",
      "Test Data Score: 0.7823262367235563\n",
      "Cross Validation Score: 0.7576135807771898\n"
     ]
    }
   ],
   "source": [
    "model_df = modeling.new_test(df = df,\n",
    "        test_df = df_test,\n",
    "        features = features1,\n",
    "        target = 'logsaleprice',\n",
    "         random_state = 1,\n",
    "         model_type = LassoCV,\n",
    "         model_df = model_df,\n",
    "        scaled=True,\n",
    "        )"
   ]
  },
  {
   "cell_type": "code",
   "execution_count": null,
   "metadata": {},
   "outputs": [],
   "source": [
    "model_df = modeling.new_test(df = df,\n",
    "        test_df = df_test,\n",
    "        features = features1,\n",
    "        target = target,\n",
    "         random_state = 1,\n",
    "         model_type = RidgeCV,\n",
    "         model_df = model_df,\n",
    "        scaled=True,\n",
    "        )"
   ]
  },
  {
   "cell_type": "code",
   "execution_count": null,
   "metadata": {},
   "outputs": [],
   "source": [
    "target = 'logsaleprice'\n",
    "model_df = modeling.new_test(df = df,\n",
    "        test_df = df_test,\n",
    "        features = features1,\n",
    "        target = target,\n",
    "         random_state = 1,\n",
    "         model_type = LassoCV,\n",
    "         model_df = model_df,\n",
    "        scaled=True,\n",
    "        )"
   ]
  },
  {
   "cell_type": "code",
   "execution_count": null,
   "metadata": {},
   "outputs": [],
   "source": []
  },
  {
   "cell_type": "code",
   "execution_count": null,
   "metadata": {},
   "outputs": [],
   "source": [
    "features2 = ['overall_qual',\n",
    "             'gr_liv_area',\n",
    "             'garage_area',\n",
    "             '1st_flr_sf']"
   ]
  },
  {
   "cell_type": "code",
   "execution_count": null,
   "metadata": {},
   "outputs": [],
   "source": [
    "model_df = modeling.new_test(df = df,\n",
    "        test_df = df_test,\n",
    "        features = features2,\n",
    "        target = 'saleprice',\n",
    "         random_state = 1,\n",
    "         model_type = LassoCV,\n",
    "         model_df = model_df,\n",
    "        scaled=True,\n",
    "        )"
   ]
  },
  {
   "cell_type": "code",
   "execution_count": null,
   "metadata": {},
   "outputs": [],
   "source": [
    "model_df = modeling.new_test(df = df,\n",
    "        test_df = df_test,\n",
    "        features = features2,\n",
    "        target = 'logsaleprice',\n",
    "         random_state = 1,\n",
    "         model_type = LassoCV,\n",
    "         model_df = model_df,\n",
    "        scaled=True,\n",
    "        )"
   ]
  },
  {
   "cell_type": "code",
   "execution_count": null,
   "metadata": {},
   "outputs": [],
   "source": []
  },
  {
   "cell_type": "code",
   "execution_count": null,
   "metadata": {},
   "outputs": [],
   "source": [
    "features3 = ['overall_qual',\n",
    "             'gr_liv_area',\n",
    "             '1st_flr_sf',\n",
    "             'garage_area',\n",
    "             'year_built',\n",
    "             'bedroom_abvgr']"
   ]
  },
  {
   "cell_type": "code",
   "execution_count": null,
   "metadata": {},
   "outputs": [],
   "source": [
    "model_df = modeling.new_test(df = df,\n",
    "        test_df = df_test,\n",
    "        features = features3,\n",
    "        target = 'saleprice',\n",
    "         random_state = 1,\n",
    "         model_type = LassoCV,\n",
    "         model_df = model_df,\n",
    "        scaled=True,\n",
    "        )"
   ]
  },
  {
   "cell_type": "code",
   "execution_count": null,
   "metadata": {},
   "outputs": [],
   "source": [
    "model_df = modeling.new_test(df = df,\n",
    "        test_df = df_test,\n",
    "        features = features3,\n",
    "        target = 'logsaleprice',\n",
    "         random_state = 1,\n",
    "         model_type = LassoCV,\n",
    "         model_df = model_df,\n",
    "        scaled=True,\n",
    "        )"
   ]
  },
  {
   "cell_type": "code",
   "execution_count": null,
   "metadata": {},
   "outputs": [],
   "source": [
    "model_df = modeling.new_test(df = df,\n",
    "        test_df = df_test,\n",
    "        features = features3,\n",
    "        target = 'logsaleprice',\n",
    "         random_state = 1,\n",
    "         model_type = RidgeCV,\n",
    "         model_df = model_df,\n",
    "        scaled=True,\n",
    "        )"
   ]
  },
  {
   "cell_type": "code",
   "execution_count": 10,
   "metadata": {},
   "outputs": [
    {
     "name": "stdout",
     "output_type": "stream",
     "text": [
      "Added fireplace_qu to the test dataframe\n"
     ]
    }
   ],
   "source": [
    "######dummied everything\n",
    "features4 = ['overall_qual',\n",
    "             'year_built', 'year_remod/add', 'mas_vnr_area',\n",
    "       'exter_qual', 'bsmt_qual', 'total_bsmt_sf', '1st_flr_sf',\n",
    "       'gr_liv_area', 'full_bath', 'kitchen_qual', 'totrms_abvgrd',\n",
    "       'fireplace_qu', 'garage_yr_blt', 'garage_area', 'foundation_pconc']\n",
    "modeling.test_columns(features4,df,df_test)"
   ]
  },
  {
   "cell_type": "code",
   "execution_count": 11,
   "metadata": {},
   "outputs": [
    {
     "name": "stderr",
     "output_type": "stream",
     "text": [
      "/Users/justinaugust/.conda/envs/dsi/lib/python3.7/site-packages/sklearn/preprocessing/data.py:625: DataConversionWarning: Data with input dtype int64, float64 were all converted to float64 by StandardScaler.\n",
      "  return self.partial_fit(X, y)\n",
      "/Users/justinaugust/.conda/envs/dsi/lib/python3.7/site-packages/sklearn/base.py:462: DataConversionWarning: Data with input dtype int64, float64 were all converted to float64 by StandardScaler.\n",
      "  return self.fit(X, **fit_params).transform(X)\n",
      "/Users/justinaugust/ga-dsi/projects/project_2/modeling.py:35: DataConversionWarning: Data with input dtype int64, float64 were all converted to float64 by StandardScaler.\n",
      "  X_test = ss.transform(X_test)\n"
     ]
    },
    {
     "name": "stdout",
     "output_type": "stream",
     "text": [
      "Training Data Score: 0.8137676863526653\n",
      "Test Data Score: 0.8387604927412194\n",
      "Cross Validation Score: 0.8004996513727358\n"
     ]
    }
   ],
   "source": [
    "model_df = modeling.new_test(df = df,\n",
    "        test_df = df_test,\n",
    "        features = features4,\n",
    "        target = 'saleprice',\n",
    "         random_state = 1,\n",
    "         model_type = LassoCV,\n",
    "         model_df = model_df,\n",
    "        scaled=True,\n",
    "        )"
   ]
  },
  {
   "cell_type": "code",
   "execution_count": 12,
   "metadata": {},
   "outputs": [
    {
     "name": "stderr",
     "output_type": "stream",
     "text": [
      "/Users/justinaugust/.conda/envs/dsi/lib/python3.7/site-packages/sklearn/preprocessing/data.py:625: DataConversionWarning: Data with input dtype int64, float64 were all converted to float64 by StandardScaler.\n",
      "  return self.partial_fit(X, y)\n",
      "/Users/justinaugust/.conda/envs/dsi/lib/python3.7/site-packages/sklearn/base.py:462: DataConversionWarning: Data with input dtype int64, float64 were all converted to float64 by StandardScaler.\n",
      "  return self.fit(X, **fit_params).transform(X)\n",
      "/Users/justinaugust/ga-dsi/projects/project_2/modeling.py:35: DataConversionWarning: Data with input dtype int64, float64 were all converted to float64 by StandardScaler.\n",
      "  X_test = ss.transform(X_test)\n"
     ]
    },
    {
     "name": "stdout",
     "output_type": "stream",
     "text": [
      "Training Data Score: 0.8222618873581485\n",
      "Test Data Score: 0.8612797992839745\n",
      "Cross Validation Score: 0.8143736160820264\n"
     ]
    }
   ],
   "source": [
    "model_df = modeling.new_test(df = df,\n",
    "        test_df = df_test,\n",
    "        features = features4,\n",
    "        target = 'logsaleprice',\n",
    "         random_state = 1,\n",
    "         model_type = LassoCV,\n",
    "         model_df = model_df,\n",
    "        scaled=True,\n",
    "        )"
   ]
  },
  {
   "cell_type": "code",
   "execution_count": 13,
   "metadata": {},
   "outputs": [
    {
     "data": {
      "text/html": [
       "<div>\n",
       "<style scoped>\n",
       "    .dataframe tbody tr th:only-of-type {\n",
       "        vertical-align: middle;\n",
       "    }\n",
       "\n",
       "    .dataframe tbody tr th {\n",
       "        vertical-align: top;\n",
       "    }\n",
       "\n",
       "    .dataframe thead th {\n",
       "        text-align: right;\n",
       "    }\n",
       "</style>\n",
       "<table border=\"1\" class=\"dataframe\">\n",
       "  <thead>\n",
       "    <tr style=\"text-align: right;\">\n",
       "      <th></th>\n",
       "      <th>model_id</th>\n",
       "      <th>features_used</th>\n",
       "      <th>target</th>\n",
       "      <th>random_state</th>\n",
       "      <th>model_type</th>\n",
       "      <th>random_state</th>\n",
       "      <th>scaled</th>\n",
       "      <th>alpha</th>\n",
       "      <th>coeffs</th>\n",
       "      <th>train_score</th>\n",
       "      <th>test_score</th>\n",
       "      <th>cross_val_score</th>\n",
       "      <th>output</th>\n",
       "    </tr>\n",
       "  </thead>\n",
       "  <tbody>\n",
       "    <tr>\n",
       "      <td>0</td>\n",
       "      <td>NaN</td>\n",
       "      <td>[overall_qual, gr_liv_area, 1st_flr_sf]</td>\n",
       "      <td>saleprice</td>\n",
       "      <td>1</td>\n",
       "      <td>&lt;class 'sklearn.linear_model.base.LinearRegres...</td>\n",
       "      <td>1</td>\n",
       "      <td>False</td>\n",
       "      <td>model has none</td>\n",
       "      <td>[31221.61263859002, 41.86056501467384, 36.3308...</td>\n",
       "      <td>0.749293</td>\n",
       "      <td>0.767049</td>\n",
       "      <td>0.741324</td>\n",
       "      <td>submissionnan.csv</td>\n",
       "    </tr>\n",
       "    <tr>\n",
       "      <td>1</td>\n",
       "      <td>1.0</td>\n",
       "      <td>[overall_qual, gr_liv_area, 1st_flr_sf]</td>\n",
       "      <td>logsaleprice</td>\n",
       "      <td>1</td>\n",
       "      <td>&lt;class 'sklearn.linear_model.base.LinearRegres...</td>\n",
       "      <td>1</td>\n",
       "      <td>False</td>\n",
       "      <td>model has none</td>\n",
       "      <td>[0.17586009098078983, 0.0002066625524121818, 0...</td>\n",
       "      <td>0.762676</td>\n",
       "      <td>0.782776</td>\n",
       "      <td>0.757850</td>\n",
       "      <td>submission1.csv</td>\n",
       "    </tr>\n",
       "    <tr>\n",
       "      <td>2</td>\n",
       "      <td>2.0</td>\n",
       "      <td>[overall_qual, gr_liv_area, 1st_flr_sf]</td>\n",
       "      <td>logsaleprice</td>\n",
       "      <td>1</td>\n",
       "      <td>&lt;class 'sklearn.linear_model.coordinate_descen...</td>\n",
       "      <td>1</td>\n",
       "      <td>True</td>\n",
       "      <td>0.00221151</td>\n",
       "      <td>[0.24858048956594517, 0.10205272158307963, 0.0...</td>\n",
       "      <td>0.762633</td>\n",
       "      <td>0.782326</td>\n",
       "      <td>0.757614</td>\n",
       "      <td>submission2.csv</td>\n",
       "    </tr>\n",
       "    <tr>\n",
       "      <td>3</td>\n",
       "      <td>3.0</td>\n",
       "      <td>[overall_qual, year_built, year_remod/add, mas...</td>\n",
       "      <td>saleprice</td>\n",
       "      <td>1</td>\n",
       "      <td>&lt;class 'sklearn.linear_model.coordinate_descen...</td>\n",
       "      <td>1</td>\n",
       "      <td>True</td>\n",
       "      <td>327.363</td>\n",
       "      <td>[17411.771926127483, 3911.2308203687894, 2566....</td>\n",
       "      <td>0.813768</td>\n",
       "      <td>0.838760</td>\n",
       "      <td>0.800500</td>\n",
       "      <td>submission3.csv</td>\n",
       "    </tr>\n",
       "    <tr>\n",
       "      <td>4</td>\n",
       "      <td>4.0</td>\n",
       "      <td>[overall_qual, year_built, year_remod/add, mas...</td>\n",
       "      <td>logsaleprice</td>\n",
       "      <td>1</td>\n",
       "      <td>&lt;class 'sklearn.linear_model.coordinate_descen...</td>\n",
       "      <td>1</td>\n",
       "      <td>True</td>\n",
       "      <td>0.00441866</td>\n",
       "      <td>[0.1268471019091649, 0.04645326982116508, 0.03...</td>\n",
       "      <td>0.822262</td>\n",
       "      <td>0.861280</td>\n",
       "      <td>0.814374</td>\n",
       "      <td>submission4.csv</td>\n",
       "    </tr>\n",
       "  </tbody>\n",
       "</table>\n",
       "</div>"
      ],
      "text/plain": [
       "   model_id                                      features_used        target  \\\n",
       "0       NaN            [overall_qual, gr_liv_area, 1st_flr_sf]     saleprice   \n",
       "1       1.0            [overall_qual, gr_liv_area, 1st_flr_sf]  logsaleprice   \n",
       "2       2.0            [overall_qual, gr_liv_area, 1st_flr_sf]  logsaleprice   \n",
       "3       3.0  [overall_qual, year_built, year_remod/add, mas...     saleprice   \n",
       "4       4.0  [overall_qual, year_built, year_remod/add, mas...  logsaleprice   \n",
       "\n",
       "  random_state                                         model_type  \\\n",
       "0            1  <class 'sklearn.linear_model.base.LinearRegres...   \n",
       "1            1  <class 'sklearn.linear_model.base.LinearRegres...   \n",
       "2            1  <class 'sklearn.linear_model.coordinate_descen...   \n",
       "3            1  <class 'sklearn.linear_model.coordinate_descen...   \n",
       "4            1  <class 'sklearn.linear_model.coordinate_descen...   \n",
       "\n",
       "  random_state scaled           alpha  \\\n",
       "0            1  False  model has none   \n",
       "1            1  False  model has none   \n",
       "2            1   True      0.00221151   \n",
       "3            1   True         327.363   \n",
       "4            1   True      0.00441866   \n",
       "\n",
       "                                              coeffs  train_score  test_score  \\\n",
       "0  [31221.61263859002, 41.86056501467384, 36.3308...     0.749293    0.767049   \n",
       "1  [0.17586009098078983, 0.0002066625524121818, 0...     0.762676    0.782776   \n",
       "2  [0.24858048956594517, 0.10205272158307963, 0.0...     0.762633    0.782326   \n",
       "3  [17411.771926127483, 3911.2308203687894, 2566....     0.813768    0.838760   \n",
       "4  [0.1268471019091649, 0.04645326982116508, 0.03...     0.822262    0.861280   \n",
       "\n",
       "   cross_val_score             output  \n",
       "0         0.741324  submissionnan.csv  \n",
       "1         0.757850    submission1.csv  \n",
       "2         0.757614    submission2.csv  \n",
       "3         0.800500    submission3.csv  \n",
       "4         0.814374    submission4.csv  "
      ]
     },
     "execution_count": 13,
     "metadata": {},
     "output_type": "execute_result"
    }
   ],
   "source": [
    "model_df"
   ]
  },
  {
   "cell_type": "code",
   "execution_count": 15,
   "metadata": {},
   "outputs": [
    {
     "name": "stdout",
     "output_type": "stream",
     "text": [
      "Added ms_subclass_2-story 1946 & newer to the test dataframe\n"
     ]
    }
   ],
   "source": [
    "features5 = ['overall_qual', 'year_built', 'year_remod/add', 'mas_vnr_area',\n",
    "       'exter_qual', 'bsmt_qual', 'bsmtfin_sf_1', 'total_bsmt_sf',\n",
    "       'heating_qc', '1st_flr_sf', 'gr_liv_area', 'full_bath',\n",
    "       'kitchen_qual', 'totrms_abvgrd', 'fireplaces', 'fireplace_qu',\n",
    "       'garage_yr_blt', 'garage_area', 'wood_deck_sf', 'open_porch_sf',\n",
    "        'ms_subclass_2-story 1946 & newer',\n",
    "       'lot_shape_reg', 'neighborhood_nridght', 'exterior_1st_vinylsd',\n",
    "       'exterior_2nd_vinylsd', 'mas_vnr_type_none', 'mas_vnr_type_stone',\n",
    "       'foundation_cblock', 'foundation_pconc', 'bsmt_exposure_gd',\n",
    "       'bsmtfin_type_1_glq', \n",
    "             'garage_type_attchd', 'garage_type_detchd',\n",
    "       'garage_finish_unf', 'sale_type_new']\n",
    "modeling.test_columns(features5,df,df_test)"
   ]
  },
  {
   "cell_type": "code",
   "execution_count": 16,
   "metadata": {},
   "outputs": [
    {
     "name": "stdout",
     "output_type": "stream",
     "text": [
      "Training Data Score: 0.836186463237568\n",
      "Test Data Score: 0.864142008997054\n",
      "Cross Validation Score: 0.8088500090713342\n"
     ]
    }
   ],
   "source": [
    "model_df = modeling.new_test(df = df,\n",
    "        test_df = df_test,\n",
    "        features = features5,\n",
    "        target = 'saleprice',\n",
    "         random_state = 1,\n",
    "         model_type = LinearRegression,\n",
    "         model_df = model_df,\n",
    "        scaled=False,\n",
    "        )"
   ]
  },
  {
   "cell_type": "code",
   "execution_count": 19,
   "metadata": {},
   "outputs": [
    {
     "name": "stderr",
     "output_type": "stream",
     "text": [
      "/Users/justinaugust/.conda/envs/dsi/lib/python3.7/site-packages/sklearn/preprocessing/data.py:625: DataConversionWarning: Data with input dtype int64, float64 were all converted to float64 by StandardScaler.\n",
      "  return self.partial_fit(X, y)\n",
      "/Users/justinaugust/.conda/envs/dsi/lib/python3.7/site-packages/sklearn/base.py:462: DataConversionWarning: Data with input dtype int64, float64 were all converted to float64 by StandardScaler.\n",
      "  return self.fit(X, **fit_params).transform(X)\n",
      "/Users/justinaugust/ga-dsi/projects/project_2/modeling.py:35: DataConversionWarning: Data with input dtype int64, float64 were all converted to float64 by StandardScaler.\n",
      "  X_test = ss.transform(X_test)\n"
     ]
    },
    {
     "name": "stdout",
     "output_type": "stream",
     "text": [
      "Training Data Score: 0.8331589210941202\n",
      "Test Data Score: 0.8650950813735184\n",
      "Cross Validation Score: 0.8145279053489339\n"
     ]
    }
   ],
   "source": [
    "model_df = modeling.new_test(df = df,\n",
    "        test_df = df_test,\n",
    "        features = features5,\n",
    "        target = 'saleprice',\n",
    "         random_state = 1,\n",
    "         model_type = RidgeCV,\n",
    "         model_df = model_df,\n",
    "        scaled=True,\n",
    "        )"
   ]
  },
  {
   "cell_type": "code",
   "execution_count": null,
   "metadata": {},
   "outputs": [],
   "source": [
    "model_df"
   ]
  },
  {
   "cell_type": "code",
   "execution_count": null,
   "metadata": {},
   "outputs": [],
   "source": [
    "model_df = modeling.new_test(df = df,\n",
    "        test_df = df_test,\n",
    "        features = features5,\n",
    "        target = 'saleprice',\n",
    "         random_state = 1,\n",
    "         model_type = LassoCV,\n",
    "         model_df = model_df,\n",
    "        scaled=True,\n",
    "        )"
   ]
  },
  {
   "cell_type": "code",
   "execution_count": null,
   "metadata": {},
   "outputs": [],
   "source": [
    "poly = PolynomialFeatures(include_bias = False)\n",
    "X_poly = poly.fit_transform(df.drop(columns=['pid','id','saleprice','ms_subclass'],axis=1))\n",
    "X_poly = pd.DataFrame(X_poly, columns = poly.get_feature_names(df.drop(columns=['pid','id','saleprice','ms_subclass'],axis=1).columns))\n",
    "X_poly['id'] = df['id']\n",
    "X_poly = X_poly.merge(df)\n",
    "\n",
    "poly = PolynomialFeatures(include_bias = False)\n",
    "Test_poly = poly.fit_transform(df_test.drop(columns=['pid','id','ms_subclass'],axis=1))\n",
    "Test_poly = pd.DataFrame(Test_poly, columns = poly.get_feature_names(df_test.drop(columns=['pid','id','ms_subclass'],axis=1).columns))\n",
    "Test_poly['id'] = df_test['id']\n",
    "Test_poly = Test_poly.merge(df_test)\n",
    "\n",
    "above_75_xpoly = (X_poly.corr()[['saleprice']] >= .75) | (X_poly.corr()[['saleprice']] <= - .75)\n",
    "\n",
    "above_75_xpoly_cols = X_poly[above_75_xpoly].columns.values\n",
    "\n",
    "above_75_xpoly_cols = list(above_5_xpoly_cols)\n",
    "above_75_xpoly_cols.remove('logsaleprice')\n",
    "above_75_xpoly_cols.remove('saleprice')\n",
    "\n",
    "model_df = modeling.new_test(df = X_poly,\n",
    "        test_df = Test_poly,\n",
    "        features = above_75_xpoly_cols,\n",
    "        target = 'saleprice',\n",
    "         random_state = 1,\n",
    "         model_type = Lasso,\n",
    "         model_df = model_df\n",
    "        scaled=True\n",
    "        )"
   ]
  },
  {
   "cell_type": "code",
   "execution_count": null,
   "metadata": {},
   "outputs": [],
   "source": [
    "model_df"
   ]
  },
  {
   "cell_type": "code",
   "execution_count": null,
   "metadata": {},
   "outputs": [],
   "source": [
    "features20 = ['overall_qual',\n",
    " 'gr_liv_area',\n",
    " '1st_flr_sf',\n",
    " 'garage_area',\n",
    " 'year_built',\n",
    " 'year_remod/add',\n",
    " 'mas_vnr_area',\n",
    " 'bsmtfin_sf_1',\n",
    " 'total_bsmt_sf',\n",
    " 'full_bath',\n",
    " 'totrms_abvgrd',\n",
    " 'fireplaces',\n",
    " 'garage_yr_blt',\n",
    " 'neighborhood_nridght',\n",
    "]\n",
    "# df = pd.read_csv('datasets/train_cleaned.csv')\n",
    "# df_test = pd.read_csv('datasets/test_cleaned.csv')\n",
    "modeling.test_columns(features20,df,df_test)"
   ]
  },
  {
   "cell_type": "code",
   "execution_count": null,
   "metadata": {},
   "outputs": [],
   "source": [
    "features\n",
    "\n",
    "\n",
    "target = 'logsaleprice'"
   ]
  },
  {
   "cell_type": "code",
   "execution_count": null,
   "metadata": {},
   "outputs": [],
   "source": []
  },
  {
   "cell_type": "code",
   "execution_count": null,
   "metadata": {},
   "outputs": [],
   "source": []
  },
  {
   "cell_type": "code",
   "execution_count": null,
   "metadata": {},
   "outputs": [],
   "source": [
    "model_df = modeling.new_test(df = df,\n",
    "        features = features20,\n",
    "        target = 'saleprice',\n",
    "         random_state = 1,\n",
    "         model_type = LassoCV,\n",
    "        scaled=True,\n",
    "        test_df = df_test,\n",
    "        model_df = model_df\n",
    "        )"
   ]
  },
  {
   "cell_type": "code",
   "execution_count": null,
   "metadata": {},
   "outputs": [],
   "source": [
    "model_df = modeling.new_test(df = df,\n",
    "        features = features20,\n",
    "        target = 'saleprice',\n",
    "         random_state = 1,\n",
    "         model_type = RidgeCV,\n",
    "        scaled=True,\n",
    "        test_df = df_test,\n",
    "        model_df = model_df\n",
    "        )"
   ]
  },
  {
   "cell_type": "code",
   "execution_count": null,
   "metadata": {},
   "outputs": [],
   "source": [
    "model_df"
   ]
  },
  {
   "cell_type": "code",
   "execution_count": null,
   "metadata": {},
   "outputs": [],
   "source": []
  }
 ],
 "metadata": {
  "kernelspec": {
   "display_name": "Python [conda env:.conda-dsi] *",
   "language": "python",
   "name": "conda-env-.conda-dsi-py"
  },
  "language_info": {
   "codemirror_mode": {
    "name": "ipython",
    "version": 3
   },
   "file_extension": ".py",
   "mimetype": "text/x-python",
   "name": "python",
   "nbconvert_exporter": "python",
   "pygments_lexer": "ipython3",
   "version": "3.7.4"
  }
 },
 "nbformat": 4,
 "nbformat_minor": 2
}
