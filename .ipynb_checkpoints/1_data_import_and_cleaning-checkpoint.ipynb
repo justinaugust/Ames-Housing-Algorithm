{
 "cells": [
  {
   "cell_type": "code",
   "execution_count": 53,
   "metadata": {},
   "outputs": [],
   "source": [
    "import pandas as pd\n",
    "import numpy as np\n",
    "import seaborn as sns\n",
    "import matplotlib.pyplot as plt\n",
    "\n",
    "import scipy.stats as stats\n",
    "import data_cleaning\n",
    "import data_viz\n",
    "\n",
    "%matplotlib inline"
   ]
  },
  {
   "cell_type": "code",
   "execution_count": 54,
   "metadata": {},
   "outputs": [
    {
     "name": "stdout",
     "output_type": "stream",
     "text": [
      "(2051, 81)\n"
     ]
    }
   ],
   "source": [
    "test = False\n",
    "df = data_cleaning.read_it(test=test)"
   ]
  },
  {
   "cell_type": "code",
   "execution_count": 55,
   "metadata": {},
   "outputs": [],
   "source": [
    "data_cleaning.snake_df(df)"
   ]
  },
  {
   "cell_type": "code",
   "execution_count": 56,
   "metadata": {},
   "outputs": [
    {
     "name": "stdout",
     "output_type": "stream",
     "text": [
      "These are the numeric columns with `null` values:\n"
     ]
    },
    {
     "data": {
      "text/plain": [
       "['lot_frontage',\n",
       " 'mas_vnr_area',\n",
       " 'bsmtfin_sf_1',\n",
       " 'bsmtfin_sf_2',\n",
       " 'bsmt_unf_sf',\n",
       " 'total_bsmt_sf',\n",
       " 'bsmt_full_bath',\n",
       " 'bsmt_half_bath',\n",
       " 'garage_yr_blt',\n",
       " 'garage_cars',\n",
       " 'garage_area']"
      ]
     },
     "execution_count": 56,
     "metadata": {},
     "output_type": "execute_result"
    }
   ],
   "source": [
    "#how many null/missing values in the numeric data?\n",
    "null_nums = [df.select_dtypes(np.number).columns[i] \n",
    "             for i in range(len(df.select_dtypes(np.number).columns)) \n",
    "             if df.select_dtypes(np.number).isnull().mean()[i] > 0]\n",
    "print(f'These are the numeric columns with `null` values:')\n",
    "null_nums"
   ]
  },
  {
   "cell_type": "code",
   "execution_count": 57,
   "metadata": {},
   "outputs": [
    {
     "data": {
      "text/html": [
       "<div>\n",
       "<style scoped>\n",
       "    .dataframe tbody tr th:only-of-type {\n",
       "        vertical-align: middle;\n",
       "    }\n",
       "\n",
       "    .dataframe tbody tr th {\n",
       "        vertical-align: top;\n",
       "    }\n",
       "\n",
       "    .dataframe thead th {\n",
       "        text-align: right;\n",
       "    }\n",
       "</style>\n",
       "<table border=\"1\" class=\"dataframe\">\n",
       "  <thead>\n",
       "    <tr style=\"text-align: right;\">\n",
       "      <th></th>\n",
       "      <th>id</th>\n",
       "      <th>pid</th>\n",
       "      <th>ms_subclass</th>\n",
       "      <th>ms_zoning</th>\n",
       "      <th>lot_frontage</th>\n",
       "      <th>lot_area</th>\n",
       "      <th>street</th>\n",
       "      <th>alley</th>\n",
       "      <th>lot_shape</th>\n",
       "      <th>land_contour</th>\n",
       "      <th>...</th>\n",
       "      <th>screen_porch</th>\n",
       "      <th>pool_area</th>\n",
       "      <th>pool_qc</th>\n",
       "      <th>fence</th>\n",
       "      <th>misc_feature</th>\n",
       "      <th>misc_val</th>\n",
       "      <th>mo_sold</th>\n",
       "      <th>yr_sold</th>\n",
       "      <th>sale_type</th>\n",
       "      <th>saleprice</th>\n",
       "    </tr>\n",
       "  </thead>\n",
       "  <tbody>\n",
       "  </tbody>\n",
       "</table>\n",
       "<p>0 rows × 81 columns</p>\n",
       "</div>"
      ],
      "text/plain": [
       "Empty DataFrame\n",
       "Columns: [id, pid, ms_subclass, ms_zoning, lot_frontage, lot_area, street, alley, lot_shape, land_contour, utilities, lot_config, land_slope, neighborhood, condition_1, condition_2, bldg_type, house_style, overall_qual, overall_cond, year_built, year_remod/add, roof_style, roof_matl, exterior_1st, exterior_2nd, mas_vnr_type, mas_vnr_area, exter_qual, exter_cond, foundation, bsmt_qual, bsmt_cond, bsmt_exposure, bsmtfin_type_1, bsmtfin_sf_1, bsmtfin_type_2, bsmtfin_sf_2, bsmt_unf_sf, total_bsmt_sf, heating, heating_qc, central_air, electrical, 1st_flr_sf, 2nd_flr_sf, low_qual_fin_sf, gr_liv_area, bsmt_full_bath, bsmt_half_bath, full_bath, half_bath, bedroom_abvgr, kitchen_abvgr, kitchen_qual, totrms_abvgrd, functional, fireplaces, fireplace_qu, garage_type, garage_yr_blt, garage_finish, garage_cars, garage_area, garage_qual, garage_cond, paved_drive, wood_deck_sf, open_porch_sf, enclosed_porch, 3ssn_porch, screen_porch, pool_area, pool_qc, fence, misc_feature, misc_val, mo_sold, yr_sold, sale_type, saleprice]\n",
       "Index: []\n",
       "\n",
       "[0 rows x 81 columns]"
      ]
     },
     "execution_count": 57,
     "metadata": {},
     "output_type": "execute_result"
    }
   ],
   "source": [
    "#ferret out the garage data.\n",
    "df[(df['garage_yr_blt'].isnull()) & \n",
    "   (df['garage_type'] != 'na') ][['year_built','year_remod/add']]\n",
    "df.loc[(df['garage_yr_blt'].isnull()) & \n",
    "       (df['garage_type'] != 'na'),'garage_yr_blt'] = 1923\n",
    "df[(df['garage_yr_blt'].isnull()) & (df['garage_type'] != 'na') ]"
   ]
  },
  {
   "cell_type": "code",
   "execution_count": 58,
   "metadata": {},
   "outputs": [],
   "source": [
    "#fill some NA's that need to be there\n",
    "na_dict = {'lot_frontage' : 0,\n",
    "           'mas_vnr_area': 0,\n",
    "           'garage_area':0,\n",
    "           'garage_cars': df[df['garage_cars'] == df['garage_cars'].value_counts().index[0]]['garage_area'].mean(),\n",
    "           'garage_yr_blt': 0,\n",
    "           'bsmt_full_bath': 0,\n",
    "           'bsmt_half_bath': 0,\n",
    "           'bsmtfin_sf_1': 0,\n",
    "           'bsmtfin_sf_2': 0,\n",
    "           'bsmt_unf_sf': 0,\n",
    "           'total_bsmt_sf': 0,\n",
    "     }\n",
    "df.fillna(na_dict, inplace=True)"
   ]
  },
  {
   "cell_type": "code",
   "execution_count": 59,
   "metadata": {},
   "outputs": [
    {
     "name": "stdout",
     "output_type": "stream",
     "text": [
      "These are the numeric columns with `null` values:\n"
     ]
    },
    {
     "data": {
      "text/plain": [
       "[]"
      ]
     },
     "execution_count": 59,
     "metadata": {},
     "output_type": "execute_result"
    }
   ],
   "source": [
    "#now how many null numerical values?\n",
    "null_nums = [df.select_dtypes(np.number).columns[i] \n",
    "             for i in range(len(df.select_dtypes(np.number).columns)) \n",
    "             if df.select_dtypes(np.number).isnull().mean()[i] > 0]\n",
    "print(f'These are the numeric columns with `null` values:')\n",
    "null_nums"
   ]
  },
  {
   "cell_type": "code",
   "execution_count": 60,
   "metadata": {},
   "outputs": [],
   "source": [
    "#df.to_csv('datasets/train_cleaned_numerical.csv', index=False)"
   ]
  },
  {
   "cell_type": "code",
   "execution_count": 61,
   "metadata": {},
   "outputs": [
    {
     "name": "stdout",
     "output_type": "stream",
     "text": [
      "These are the non-numeric columns with `null` values:\n"
     ]
    },
    {
     "data": {
      "text/plain": [
       "['alley',\n",
       " 'mas_vnr_type',\n",
       " 'bsmt_qual',\n",
       " 'bsmt_cond',\n",
       " 'bsmt_exposure',\n",
       " 'bsmtfin_type_1',\n",
       " 'bsmtfin_type_2',\n",
       " 'fireplace_qu',\n",
       " 'garage_type',\n",
       " 'garage_finish',\n",
       " 'garage_qual',\n",
       " 'garage_cond',\n",
       " 'pool_qc',\n",
       " 'fence',\n",
       " 'misc_feature']"
      ]
     },
     "execution_count": 61,
     "metadata": {},
     "output_type": "execute_result"
    }
   ],
   "source": [
    "# now let's check out categorical data!\n",
    "null_objs = [df.select_dtypes(object).columns[i] \n",
    "             for i in range(len(df.select_dtypes(object).columns)) \n",
    "             if df.select_dtypes(object).isnull().mean()[i] > 0]\n",
    "print(f'These are the non-numeric columns with `null` values:')\n",
    "null_objs\n"
   ]
  },
  {
   "cell_type": "markdown",
   "metadata": {},
   "source": [
    "### In this section I check to see if these `null` values correspond with features that do not exist in the house or are missing data.\n",
    "\n",
    "full evaluations were done but only the `.head()` output is included here."
   ]
  },
  {
   "cell_type": "code",
   "execution_count": 62,
   "metadata": {},
   "outputs": [
    {
     "data": {
      "text/html": [
       "<div>\n",
       "<style scoped>\n",
       "    .dataframe tbody tr th:only-of-type {\n",
       "        vertical-align: middle;\n",
       "    }\n",
       "\n",
       "    .dataframe tbody tr th {\n",
       "        vertical-align: top;\n",
       "    }\n",
       "\n",
       "    .dataframe thead th {\n",
       "        text-align: right;\n",
       "    }\n",
       "</style>\n",
       "<table border=\"1\" class=\"dataframe\">\n",
       "  <thead>\n",
       "    <tr style=\"text-align: right;\">\n",
       "      <th></th>\n",
       "      <th>mas_vnr_area</th>\n",
       "    </tr>\n",
       "  </thead>\n",
       "  <tbody>\n",
       "    <tr>\n",
       "      <td>22</td>\n",
       "      <td>0.0</td>\n",
       "    </tr>\n",
       "    <tr>\n",
       "      <td>41</td>\n",
       "      <td>0.0</td>\n",
       "    </tr>\n",
       "    <tr>\n",
       "      <td>86</td>\n",
       "      <td>0.0</td>\n",
       "    </tr>\n",
       "    <tr>\n",
       "      <td>212</td>\n",
       "      <td>0.0</td>\n",
       "    </tr>\n",
       "    <tr>\n",
       "      <td>276</td>\n",
       "      <td>0.0</td>\n",
       "    </tr>\n",
       "  </tbody>\n",
       "</table>\n",
       "</div>"
      ],
      "text/plain": [
       "     mas_vnr_area\n",
       "22            0.0\n",
       "41            0.0\n",
       "86            0.0\n",
       "212           0.0\n",
       "276           0.0"
      ]
     },
     "execution_count": 62,
     "metadata": {},
     "output_type": "execute_result"
    }
   ],
   "source": [
    "df[df['mas_vnr_type'].isnull()][['mas_vnr_area']].head()"
   ]
  },
  {
   "cell_type": "code",
   "execution_count": 63,
   "metadata": {},
   "outputs": [
    {
     "data": {
      "text/html": [
       "<div>\n",
       "<style scoped>\n",
       "    .dataframe tbody tr th:only-of-type {\n",
       "        vertical-align: middle;\n",
       "    }\n",
       "\n",
       "    .dataframe tbody tr th {\n",
       "        vertical-align: top;\n",
       "    }\n",
       "\n",
       "    .dataframe thead th {\n",
       "        text-align: right;\n",
       "    }\n",
       "</style>\n",
       "<table border=\"1\" class=\"dataframe\">\n",
       "  <thead>\n",
       "    <tr style=\"text-align: right;\">\n",
       "      <th></th>\n",
       "      <th>bsmt_qual</th>\n",
       "      <th>bsmt_cond</th>\n",
       "      <th>bsmt_exposure</th>\n",
       "      <th>bsmtfin_type_1</th>\n",
       "      <th>bsmtfin_sf_1</th>\n",
       "      <th>bsmtfin_type_2</th>\n",
       "    </tr>\n",
       "  </thead>\n",
       "  <tbody>\n",
       "    <tr>\n",
       "      <td>12</td>\n",
       "      <td>NaN</td>\n",
       "      <td>NaN</td>\n",
       "      <td>NaN</td>\n",
       "      <td>NaN</td>\n",
       "      <td>0.0</td>\n",
       "      <td>NaN</td>\n",
       "    </tr>\n",
       "    <tr>\n",
       "      <td>93</td>\n",
       "      <td>NaN</td>\n",
       "      <td>NaN</td>\n",
       "      <td>NaN</td>\n",
       "      <td>NaN</td>\n",
       "      <td>0.0</td>\n",
       "      <td>NaN</td>\n",
       "    </tr>\n",
       "    <tr>\n",
       "      <td>114</td>\n",
       "      <td>NaN</td>\n",
       "      <td>NaN</td>\n",
       "      <td>NaN</td>\n",
       "      <td>NaN</td>\n",
       "      <td>0.0</td>\n",
       "      <td>NaN</td>\n",
       "    </tr>\n",
       "    <tr>\n",
       "      <td>146</td>\n",
       "      <td>NaN</td>\n",
       "      <td>NaN</td>\n",
       "      <td>NaN</td>\n",
       "      <td>NaN</td>\n",
       "      <td>0.0</td>\n",
       "      <td>NaN</td>\n",
       "    </tr>\n",
       "    <tr>\n",
       "      <td>183</td>\n",
       "      <td>NaN</td>\n",
       "      <td>NaN</td>\n",
       "      <td>NaN</td>\n",
       "      <td>NaN</td>\n",
       "      <td>0.0</td>\n",
       "      <td>NaN</td>\n",
       "    </tr>\n",
       "  </tbody>\n",
       "</table>\n",
       "</div>"
      ],
      "text/plain": [
       "    bsmt_qual bsmt_cond bsmt_exposure bsmtfin_type_1  bsmtfin_sf_1  \\\n",
       "12        NaN       NaN           NaN            NaN           0.0   \n",
       "93        NaN       NaN           NaN            NaN           0.0   \n",
       "114       NaN       NaN           NaN            NaN           0.0   \n",
       "146       NaN       NaN           NaN            NaN           0.0   \n",
       "183       NaN       NaN           NaN            NaN           0.0   \n",
       "\n",
       "    bsmtfin_type_2  \n",
       "12             NaN  \n",
       "93             NaN  \n",
       "114            NaN  \n",
       "146            NaN  \n",
       "183            NaN  "
      ]
     },
     "execution_count": 63,
     "metadata": {},
     "output_type": "execute_result"
    }
   ],
   "source": [
    "bsmt = ['bsmt_qual',\n",
    "        'bsmt_cond',\n",
    "        'bsmt_exposure',\n",
    "        'bsmtfin_type_1',\n",
    "        'bsmtfin_sf_1',\n",
    "        'bsmtfin_type_2'\n",
    "       ]\n",
    "\n",
    "df[df['bsmt_qual'].isnull()][bsmt].head()"
   ]
  },
  {
   "cell_type": "code",
   "execution_count": 64,
   "metadata": {},
   "outputs": [
    {
     "data": {
      "text/html": [
       "<div>\n",
       "<style scoped>\n",
       "    .dataframe tbody tr th:only-of-type {\n",
       "        vertical-align: middle;\n",
       "    }\n",
       "\n",
       "    .dataframe tbody tr th {\n",
       "        vertical-align: top;\n",
       "    }\n",
       "\n",
       "    .dataframe thead th {\n",
       "        text-align: right;\n",
       "    }\n",
       "</style>\n",
       "<table border=\"1\" class=\"dataframe\">\n",
       "  <thead>\n",
       "    <tr style=\"text-align: right;\">\n",
       "      <th></th>\n",
       "      <th>fireplaces</th>\n",
       "    </tr>\n",
       "  </thead>\n",
       "  <tbody>\n",
       "    <tr>\n",
       "      <td>0</td>\n",
       "      <td>0</td>\n",
       "    </tr>\n",
       "    <tr>\n",
       "      <td>2</td>\n",
       "      <td>0</td>\n",
       "    </tr>\n",
       "    <tr>\n",
       "      <td>3</td>\n",
       "      <td>0</td>\n",
       "    </tr>\n",
       "    <tr>\n",
       "      <td>4</td>\n",
       "      <td>0</td>\n",
       "    </tr>\n",
       "    <tr>\n",
       "      <td>6</td>\n",
       "      <td>0</td>\n",
       "    </tr>\n",
       "  </tbody>\n",
       "</table>\n",
       "</div>"
      ],
      "text/plain": [
       "   fireplaces\n",
       "0           0\n",
       "2           0\n",
       "3           0\n",
       "4           0\n",
       "6           0"
      ]
     },
     "execution_count": 64,
     "metadata": {},
     "output_type": "execute_result"
    }
   ],
   "source": [
    "df[df['fireplace_qu'].isnull()][['fireplaces']].head()"
   ]
  },
  {
   "cell_type": "code",
   "execution_count": 65,
   "metadata": {},
   "outputs": [
    {
     "data": {
      "text/html": [
       "<div>\n",
       "<style scoped>\n",
       "    .dataframe tbody tr th:only-of-type {\n",
       "        vertical-align: middle;\n",
       "    }\n",
       "\n",
       "    .dataframe tbody tr th {\n",
       "        vertical-align: top;\n",
       "    }\n",
       "\n",
       "    .dataframe thead th {\n",
       "        text-align: right;\n",
       "    }\n",
       "</style>\n",
       "<table border=\"1\" class=\"dataframe\">\n",
       "  <thead>\n",
       "    <tr style=\"text-align: right;\">\n",
       "      <th></th>\n",
       "      <th>garage_type</th>\n",
       "    </tr>\n",
       "  </thead>\n",
       "  <tbody>\n",
       "    <tr>\n",
       "      <td>28</td>\n",
       "      <td>NaN</td>\n",
       "    </tr>\n",
       "    <tr>\n",
       "      <td>53</td>\n",
       "      <td>NaN</td>\n",
       "    </tr>\n",
       "    <tr>\n",
       "      <td>65</td>\n",
       "      <td>NaN</td>\n",
       "    </tr>\n",
       "    <tr>\n",
       "      <td>79</td>\n",
       "      <td>NaN</td>\n",
       "    </tr>\n",
       "    <tr>\n",
       "      <td>101</td>\n",
       "      <td>NaN</td>\n",
       "    </tr>\n",
       "  </tbody>\n",
       "</table>\n",
       "</div>"
      ],
      "text/plain": [
       "    garage_type\n",
       "28          NaN\n",
       "53          NaN\n",
       "65          NaN\n",
       "79          NaN\n",
       "101         NaN"
      ]
     },
     "execution_count": 65,
     "metadata": {},
     "output_type": "execute_result"
    }
   ],
   "source": [
    "df[df['garage_finish'].isnull()][['garage_type']].head()"
   ]
  },
  {
   "cell_type": "markdown",
   "metadata": {},
   "source": [
    "### By looking at the data dictionary, the other `null` values should be set to `'na'` to indicate the lack of a feature."
   ]
  },
  {
   "cell_type": "code",
   "execution_count": 66,
   "metadata": {},
   "outputs": [],
   "source": [
    "#fill some NA's that need to be there\n",
    "na_dict = {'bsmt_qual': 'na',\n",
    "           'bsmt_cond': 'na',\n",
    "           'bsmt_exposure': 'na',\n",
    "           'bsmtfin_type_1': 'na',\n",
    "           'bsmtfin_type_2': 'na',\n",
    "           'mas_vnr_type': 'none',\n",
    "           'fireplace_qu': 'na',\n",
    "           'garage_finish': 'na',\n",
    "           'garage_qual': 'na',\n",
    "           'garage_cond': 'na',\n",
    "           'garage_type': 'na',\n",
    "           'alley': 'na',\n",
    "           'pool_qc': 'na',\n",
    "           'fence': 'na',\n",
    "           'misc_feature': 'na',\n",
    "           'electrical': df['electrical'].value_counts().index[0],\n",
    "          }\n",
    "df.fillna(na_dict, inplace=True)"
   ]
  },
  {
   "cell_type": "markdown",
   "metadata": {},
   "source": [
    "### Ordinal values should be ordered based on the grading quality.\n",
    "These are established based on the data dictionary."
   ]
  },
  {
   "cell_type": "code",
   "execution_count": 67,
   "metadata": {},
   "outputs": [
    {
     "data": {
      "text/plain": [
       "['kitchen_qual',\n",
       " 'exter_cond',\n",
       " 'bsmt_cond',\n",
       " 'fireplace_qu',\n",
       " 'exter_qual',\n",
       " 'garage_cond',\n",
       " 'pool_qc',\n",
       " 'heating_qc',\n",
       " 'bsmt_qual',\n",
       " 'garage_qual']"
      ]
     },
     "execution_count": 67,
     "metadata": {},
     "output_type": "execute_result"
    }
   ],
   "source": [
    "ordinal_dict = {\n",
    "    'ex':5,\n",
    "    'gd':4,\n",
    "    'ta':3,\n",
    "    'fa':2,\n",
    "    'po':1,\n",
    "    'na':0,\n",
    "}\n",
    "\n",
    "ordinal_columns = [column\n",
    " for column\n",
    " in df.columns.values \n",
    " if \"_qu\" in column or \"_cond\" in column or \"_qc\" in column\n",
    "]\n",
    "not_ordinal = ['overall_qual','overall_cond','low_qual_fin_sf']\n",
    "ordinal_columns = list(set(ordinal_columns) - set(not_ordinal))\n",
    "ordinal_columns"
   ]
  },
  {
   "cell_type": "code",
   "execution_count": 68,
   "metadata": {},
   "outputs": [],
   "source": [
    "df[ordinal_columns] = df[ordinal_columns].replace(ordinal_dict)"
   ]
  },
  {
   "cell_type": "markdown",
   "metadata": {},
   "source": [
    "## Convert MS Subclass to Categorical"
   ]
  },
  {
   "cell_type": "code",
   "execution_count": 69,
   "metadata": {},
   "outputs": [],
   "source": [
    "ms_subclass_dict = {20: \"1-STORY 1946 & NEWER ALL STYLES\",\n",
    "30: \"1-STORY 1945 OLDER\",\n",
    "40: \"1-STORY FINISHED ATTIC ALL AGES\",\n",
    "45: \"1-1/2 STORY UNFINISHED ALL AGES\",\n",
    "50: \"1-1/2 STORY FINISHED ALL AGES\",\n",
    "60: \"2-STORY 1946 NEWER\",\n",
    "70: \"2-STORY 1945 OLDER\",\n",
    "75: \"2-1/2 STORY ALL AGES\",\n",
    "80: \"SPLIT OR MULTI-LEVEL\",\n",
    "85: \"SPLIT FOYER\",\n",
    "90: \"DUPLEX - ALL STYLES AND AGES\",\n",
    "120: \"1-STORY PUD (Planned Unit Development) - 1946 NEWER\",\n",
    "150: \"1-1/2 STORY PUD - ALL AGES\",\n",
    "160: \"2-STORY PUD - 1946 NEWER\",\n",
    "180: \"PUD - MULTILEVEL - INCL SPLIT LEV/FOYER\",\n",
    "190: \"2 FAMILY CONVERSION - ALL STYLES AND AGES\"\n",
    "                   }\n",
    "df['ms_subclass'] = df['ms_subclass'].replace(ms_subclass_dict)\n"
   ]
  },
  {
   "cell_type": "code",
   "execution_count": 70,
   "metadata": {},
   "outputs": [
    {
     "data": {
      "text/plain": [
       "(2051, 81)"
      ]
     },
     "execution_count": 70,
     "metadata": {},
     "output_type": "execute_result"
    }
   ],
   "source": [
    "data_cleaning.snake_df(df)\n",
    "df.shape"
   ]
  },
  {
   "cell_type": "markdown",
   "metadata": {},
   "source": [
    "## Outlier Detection"
   ]
  },
  {
   "cell_type": "code",
   "execution_count": 71,
   "metadata": {},
   "outputs": [
    {
     "data": {
      "text/plain": [
       "<matplotlib.axes._subplots.AxesSubplot at 0x1a26cd2ed0>"
      ]
     },
     "execution_count": 71,
     "metadata": {},
     "output_type": "execute_result"
    },
    {
     "data": {
      "image/png": "[encoded data removed]",
      "text/plain": [
       "<Figure size 432x288 with 1 Axes>"
      ]
     },
     "metadata": {
      "needs_background": "light"
     },
     "output_type": "display_data"
    }
   ],
   "source": [
    "sns.scatterplot(data=df,\n",
    "               x = '1st_flr_sf',\n",
    "                y = 'saleprice'\n",
    "               )"
   ]
  },
  {
   "cell_type": "code",
   "execution_count": 72,
   "metadata": {},
   "outputs": [
    {
     "data": {
      "text/html": [
       "<div>\n",
       "<style scoped>\n",
       "    .dataframe tbody tr th:only-of-type {\n",
       "        vertical-align: middle;\n",
       "    }\n",
       "\n",
       "    .dataframe tbody tr th {\n",
       "        vertical-align: top;\n",
       "    }\n",
       "\n",
       "    .dataframe thead th {\n",
       "        text-align: right;\n",
       "    }\n",
       "</style>\n",
       "<table border=\"1\" class=\"dataframe\">\n",
       "  <thead>\n",
       "    <tr style=\"text-align: right;\">\n",
       "      <th></th>\n",
       "      <th>id</th>\n",
       "      <th>pid</th>\n",
       "      <th>ms_subclass</th>\n",
       "      <th>ms_zoning</th>\n",
       "      <th>lot_frontage</th>\n",
       "      <th>lot_area</th>\n",
       "      <th>street</th>\n",
       "      <th>alley</th>\n",
       "      <th>lot_shape</th>\n",
       "      <th>land_contour</th>\n",
       "      <th>...</th>\n",
       "      <th>screen_porch</th>\n",
       "      <th>pool_area</th>\n",
       "      <th>pool_qc</th>\n",
       "      <th>fence</th>\n",
       "      <th>misc_feature</th>\n",
       "      <th>misc_val</th>\n",
       "      <th>mo_sold</th>\n",
       "      <th>yr_sold</th>\n",
       "      <th>sale_type</th>\n",
       "      <th>saleprice</th>\n",
       "    </tr>\n",
       "  </thead>\n",
       "  <tbody>\n",
       "    <tr>\n",
       "      <td>616</td>\n",
       "      <td>1498</td>\n",
       "      <td>908154080</td>\n",
       "      <td>1-story 1946 &amp; newer all styles</td>\n",
       "      <td>rl</td>\n",
       "      <td>123.0</td>\n",
       "      <td>47007</td>\n",
       "      <td>pave</td>\n",
       "      <td>na</td>\n",
       "      <td>ir1</td>\n",
       "      <td>lvl</td>\n",
       "      <td>...</td>\n",
       "      <td>0</td>\n",
       "      <td>0</td>\n",
       "      <td>0</td>\n",
       "      <td>na</td>\n",
       "      <td>na</td>\n",
       "      <td>0</td>\n",
       "      <td>7</td>\n",
       "      <td>2008</td>\n",
       "      <td>wd</td>\n",
       "      <td>284700</td>\n",
       "    </tr>\n",
       "    <tr>\n",
       "      <td>960</td>\n",
       "      <td>1499</td>\n",
       "      <td>908154235</td>\n",
       "      <td>2-story 1946 newer</td>\n",
       "      <td>rl</td>\n",
       "      <td>313.0</td>\n",
       "      <td>63887</td>\n",
       "      <td>pave</td>\n",
       "      <td>na</td>\n",
       "      <td>ir3</td>\n",
       "      <td>bnk</td>\n",
       "      <td>...</td>\n",
       "      <td>0</td>\n",
       "      <td>480</td>\n",
       "      <td>4</td>\n",
       "      <td>na</td>\n",
       "      <td>na</td>\n",
       "      <td>0</td>\n",
       "      <td>1</td>\n",
       "      <td>2008</td>\n",
       "      <td>new</td>\n",
       "      <td>160000</td>\n",
       "    </tr>\n",
       "    <tr>\n",
       "      <td>1885</td>\n",
       "      <td>2181</td>\n",
       "      <td>908154195</td>\n",
       "      <td>1-story 1946 &amp; newer all styles</td>\n",
       "      <td>rl</td>\n",
       "      <td>128.0</td>\n",
       "      <td>39290</td>\n",
       "      <td>pave</td>\n",
       "      <td>na</td>\n",
       "      <td>ir1</td>\n",
       "      <td>bnk</td>\n",
       "      <td>...</td>\n",
       "      <td>0</td>\n",
       "      <td>0</td>\n",
       "      <td>0</td>\n",
       "      <td>na</td>\n",
       "      <td>elev</td>\n",
       "      <td>17000</td>\n",
       "      <td>10</td>\n",
       "      <td>2007</td>\n",
       "      <td>new</td>\n",
       "      <td>183850</td>\n",
       "    </tr>\n",
       "  </tbody>\n",
       "</table>\n",
       "<p>3 rows × 81 columns</p>\n",
       "</div>"
      ],
      "text/plain": [
       "        id        pid                      ms_subclass ms_zoning  \\\n",
       "616   1498  908154080  1-story 1946 & newer all styles        rl   \n",
       "960   1499  908154235               2-story 1946 newer        rl   \n",
       "1885  2181  908154195  1-story 1946 & newer all styles        rl   \n",
       "\n",
       "      lot_frontage  lot_area street alley lot_shape land_contour  ...  \\\n",
       "616          123.0     47007   pave    na       ir1          lvl  ...   \n",
       "960          313.0     63887   pave    na       ir3          bnk  ...   \n",
       "1885         128.0     39290   pave    na       ir1          bnk  ...   \n",
       "\n",
       "     screen_porch pool_area pool_qc fence misc_feature misc_val mo_sold  \\\n",
       "616             0         0       0    na           na        0       7   \n",
       "960             0       480       4    na           na        0       1   \n",
       "1885            0         0       0    na         elev    17000      10   \n",
       "\n",
       "     yr_sold  sale_type  saleprice  \n",
       "616     2008        wd      284700  \n",
       "960     2008        new     160000  \n",
       "1885    2007        new     183850  \n",
       "\n",
       "[3 rows x 81 columns]"
      ]
     },
     "execution_count": 72,
     "metadata": {},
     "output_type": "execute_result"
    }
   ],
   "source": [
    "df.loc[df['1st_flr_sf'] > 3500,:]"
   ]
  },
  {
   "cell_type": "code",
   "execution_count": 73,
   "metadata": {},
   "outputs": [],
   "source": [
    "drop_sales_sf = df.loc[df['1st_flr_sf'] > 3000,:].index.values\n",
    "df = df.drop(axis=0, index=drop_sales_sf)"
   ]
  },
  {
   "cell_type": "code",
   "execution_count": 74,
   "metadata": {},
   "outputs": [
    {
     "data": {
      "image/png": "[encoded data removed]",
      "text/plain": [
       "<Figure size 432x288 with 1 Axes>"
      ]
     },
     "metadata": {
      "needs_background": "light"
     },
     "output_type": "display_data"
    }
   ],
   "source": [
    "sns.scatterplot(data=df,\n",
    "               x = '1st_flr_sf',\n",
    "                y = 'saleprice'\n",
    "               );"
   ]
  },
  {
   "cell_type": "code",
   "execution_count": null,
   "metadata": {},
   "outputs": [],
   "source": []
  },
  {
   "cell_type": "markdown",
   "metadata": {},
   "source": [
    "# Save your fresh and clean dataset and store the variable to share across notebooks"
   ]
  },
  {
   "cell_type": "code",
   "execution_count": 51,
   "metadata": {},
   "outputs": [
    {
     "name": "stdout",
     "output_type": "stream",
     "text": [
      "CSV saved to datasets/train_cleaned.csv\n"
     ]
    }
   ],
   "source": [
    "data_cleaning.save_it(df, test)"
   ]
  },
  {
   "cell_type": "markdown",
   "metadata": {},
   "source": [
    "On to [Exploratory Data Analysis & Initial Modeling](2_EDA_and_feature_engineering.ipynb)"
   ]
  }
 ],
 "metadata": {
  "kernelspec": {
   "display_name": "Python [conda env:.conda-dsi] *",
   "language": "python",
   "name": "conda-env-.conda-dsi-py"
  },
  "language_info": {
   "codemirror_mode": {
    "name": "ipython",
    "version": 3
   },
   "file_extension": ".py",
   "mimetype": "text/x-python",
   "name": "python",
   "nbconvert_exporter": "python",
   "pygments_lexer": "ipython3",
   "version": "3.7.4"
  }
 },
 "nbformat": 4,
 "nbformat_minor": 2
}
