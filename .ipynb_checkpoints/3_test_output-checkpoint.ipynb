{
 "cells": [
  {
   "cell_type": "code",
   "execution_count": 1,
   "metadata": {},
   "outputs": [],
   "source": [
    "import pandas as pd\n",
    "import numpy as np\n",
    "from sklearn.linear_model import LinearRegression, LassoCV, RidgeCV\n",
    "from sklearn.model_selection import train_test_split, KFold, cross_val_score\n",
    "import scipy.stats as stats\n",
    "import modeling\n",
    "import seaborn as sns\n",
    "from sklearn.preprocessing import StandardScaler, PolynomialFeatures\n",
    "\n"
   ]
  },
  {
   "cell_type": "code",
   "execution_count": 2,
   "metadata": {},
   "outputs": [],
   "source": [
    "df = pd.read_csv('datasets/train_cleaned.csv')\n",
    "df_test = pd.read_csv('datasets/test_cleaned.csv')\n",
    "#model_df = pd.read_csv('datasets/models.csv')\n",
    "target = 'saleprice'"
   ]
  },
  {
   "cell_type": "code",
   "execution_count": 3,
   "metadata": {},
   "outputs": [],
   "source": [
    "model_columns = ['model_id',\n",
    "        'features_used',\n",
    "        'random_state',\n",
    "        'model_type',\n",
    "        'random_state',\n",
    "        'scaled',\n",
    "        'alpha',\n",
    "        'coeffs',\n",
    "        'train_score',\n",
    "        'test_score',\n",
    "        'cross_val_score',\n",
    "        'output']\n",
    "model_df = pd.DataFrame(columns = model_columns)"
   ]
  },
  {
   "cell_type": "code",
   "execution_count": 4,
   "metadata": {},
   "outputs": [],
   "source": [
    "features1 = ['overall_qual',\n",
    "            'gr_liv_area',\n",
    "            '1st_flr_sf']"
   ]
  },
  {
   "cell_type": "code",
   "execution_count": 5,
   "metadata": {},
   "outputs": [
    {
     "name": "stdout",
     "output_type": "stream",
     "text": [
      "Training Data Score: 0.7492925149435228\n",
      "Test Data Score: 0.7670489914732018\n",
      "Cross Validation Score: 0.7413236900021387\n"
     ]
    }
   ],
   "source": [
    "model_df = modeling.new_test(df = df,\n",
    "        test_df = df_test,\n",
    "        features = features1,\n",
    "        target = target,\n",
    "         random_state = 1,\n",
    "         model_type = LinearRegression,\n",
    "         model_df = model_df,\n",
    "        scaled=False,\n",
    "        )"
   ]
  },
  {
   "cell_type": "code",
   "execution_count": 6,
   "metadata": {},
   "outputs": [
    {
     "data": {
      "text/html": [
       "<div>\n",
       "<style scoped>\n",
       "    .dataframe tbody tr th:only-of-type {\n",
       "        vertical-align: middle;\n",
       "    }\n",
       "\n",
       "    .dataframe tbody tr th {\n",
       "        vertical-align: top;\n",
       "    }\n",
       "\n",
       "    .dataframe thead th {\n",
       "        text-align: right;\n",
       "    }\n",
       "</style>\n",
       "<table border=\"1\" class=\"dataframe\">\n",
       "  <thead>\n",
       "    <tr style=\"text-align: right;\">\n",
       "      <th></th>\n",
       "      <th>model_id</th>\n",
       "      <th>features_used</th>\n",
       "      <th>random_state</th>\n",
       "      <th>model_type</th>\n",
       "      <th>random_state</th>\n",
       "      <th>alpha</th>\n",
       "      <th>coeffs</th>\n",
       "      <th>train_score</th>\n",
       "      <th>test_score</th>\n",
       "      <th>cross_val_score</th>\n",
       "      <th>output</th>\n",
       "    </tr>\n",
       "  </thead>\n",
       "  <tbody>\n",
       "    <tr>\n",
       "      <td>0</td>\n",
       "      <td>NaN</td>\n",
       "      <td>[overall_qual, gr_liv_area, 1st_flr_sf]</td>\n",
       "      <td>1</td>\n",
       "      <td>&lt;class 'sklearn.linear_model.base.LinearRegres...</td>\n",
       "      <td>1</td>\n",
       "      <td>model has none</td>\n",
       "      <td>[31221.61263859002, 41.86056501467384, 36.3308...</td>\n",
       "      <td>0.749293</td>\n",
       "      <td>0.767049</td>\n",
       "      <td>0.741324</td>\n",
       "      <td>submissionnan.csv</td>\n",
       "    </tr>\n",
       "  </tbody>\n",
       "</table>\n",
       "</div>"
      ],
      "text/plain": [
       "   model_id                            features_used random_state  \\\n",
       "0       NaN  [overall_qual, gr_liv_area, 1st_flr_sf]            1   \n",
       "\n",
       "                                          model_type random_state  \\\n",
       "0  <class 'sklearn.linear_model.base.LinearRegres...            1   \n",
       "\n",
       "            alpha                                             coeffs  \\\n",
       "0  model has none  [31221.61263859002, 41.86056501467384, 36.3308...   \n",
       "\n",
       "   train_score  test_score  cross_val_score             output  \n",
       "0     0.749293    0.767049         0.741324  submissionnan.csv  "
      ]
     },
     "execution_count": 6,
     "metadata": {},
     "output_type": "execute_result"
    }
   ],
   "source": [
    "model_df"
   ]
  },
  {
   "cell_type": "code",
   "execution_count": null,
   "metadata": {},
   "outputs": [],
   "source": []
  },
  {
   "cell_type": "code",
   "execution_count": null,
   "metadata": {},
   "outputs": [],
   "source": [
    "features2 = ['overall_qual',\n",
    "             'gr_liv_area',\n",
    "             'garage_area',\n",
    "             '1st_flr_sf']"
   ]
  },
  {
   "cell_type": "code",
   "execution_count": null,
   "metadata": {},
   "outputs": [],
   "source": [
    "features3 = ['overall_qual',\n",
    "             'gr_liv_area',\n",
    "             '1st_flr_sf',\n",
    "             'garage_area',\n",
    "             'year_built',\n",
    "             'bedroom_abvgr']"
   ]
  },
  {
   "cell_type": "code",
   "execution_count": null,
   "metadata": {},
   "outputs": [],
   "source": [
    "poly = PolynomialFeatures(include_bias = False)\n",
    "X_poly = poly_t.fit_transform(df[features10])\n",
    "X_poly = pd.DataFrame(X_poly, columns = poly_t.get_feature_names(features10))\n",
    "X_poly['id'] = df_test['id']\n",
    "X_poly = X_poly.merge(df)"
   ]
  },
  {
   "cell_type": "code",
   "execution_count": null,
   "metadata": {},
   "outputs": [],
   "source": [
    "above_75_xpoly = (X_poly.corr()[['saleprice']] >= .75) | (X_poly.corr()[['saleprice']] <= - .75)\n",
    "\n",
    "above_75_xpoly_cols = X_poly[above_75_xpoly].columns.values\n",
    "\n",
    "above_75_xpoly_cols = list(above_5_xpoly_cols)\n",
    "above_75_xpoly_cols.remove('logsaleprice')\n",
    "above_75_xpoly_cols.remove('saleprice')"
   ]
  },
  {
   "cell_type": "code",
   "execution_count": null,
   "metadata": {},
   "outputs": [],
   "source": [
    "poly_t = PolynomialFeatures(include_bias = False)\n",
    "Test_poly = poly_t.fit_transform(df_test[features10])\n",
    "Test_poly = pd.DataFrame(Test_poly, columns = poly_t.get_feature_names(features10))\n",
    "Test_poly['id'] = df_test['id']\n",
    "Test_poly = Test_poly.merge(df_test)"
   ]
  },
  {
   "cell_type": "code",
   "execution_count": null,
   "metadata": {},
   "outputs": [],
   "source": [
    "model_df = pd.read_csv('datasets/models.csv')"
   ]
  },
  {
   "cell_type": "code",
   "execution_count": null,
   "metadata": {},
   "outputs": [],
   "source": [
    "model_df = modeling.new_test(df = X_poly,\n",
    "        test_df = Test_poly,\n",
    "        features = above_75_xpoly_cols,\n",
    "        target = 'saleprice',\n",
    "         random_state = 1,\n",
    "         model_type = LinearRegression,\n",
    "         model_df = model_df\n",
    "        \n",
    "        )"
   ]
  },
  {
   "cell_type": "code",
   "execution_count": null,
   "metadata": {},
   "outputs": [],
   "source": [
    "model_df"
   ]
  },
  {
   "cell_type": "code",
   "execution_count": null,
   "metadata": {},
   "outputs": [],
   "source": [
    "features20 = ['overall_qual',\n",
    " 'gr_liv_area',\n",
    " '1st_flr_sf',\n",
    " 'garage_area',\n",
    " 'year_built',\n",
    " 'year_remod/add',\n",
    " 'mas_vnr_area',\n",
    " 'bsmtfin_sf_1',\n",
    " 'total_bsmt_sf',\n",
    " 'full_bath',\n",
    " 'totrms_abvgrd',\n",
    " 'fireplaces',\n",
    " 'garage_yr_blt',\n",
    " 'neighborhood_nridght',\n",
    "]\n",
    "# df = pd.read_csv('datasets/train_cleaned.csv')\n",
    "# df_test = pd.read_csv('datasets/test_cleaned.csv')\n",
    "modeling.test_columns(features20,df,df_test)"
   ]
  },
  {
   "cell_type": "code",
   "execution_count": null,
   "metadata": {},
   "outputs": [],
   "source": []
  },
  {
   "cell_type": "code",
   "execution_count": null,
   "metadata": {},
   "outputs": [],
   "source": []
  },
  {
   "cell_type": "code",
   "execution_count": null,
   "metadata": {},
   "outputs": [],
   "source": []
  },
  {
   "cell_type": "code",
   "execution_count": null,
   "metadata": {},
   "outputs": [],
   "source": [
    "model_df = modeling.new_test(df = df,\n",
    "        features = features20,\n",
    "        target = 'saleprice',\n",
    "         random_state = 1,\n",
    "         model_type = LassoCV,\n",
    "        scaled=True,\n",
    "        test_df = df_test,\n",
    "        model_df = model_df\n",
    "        )"
   ]
  },
  {
   "cell_type": "code",
   "execution_count": null,
   "metadata": {},
   "outputs": [],
   "source": [
    "model_df = modeling.new_test(df = df,\n",
    "        features = features20,\n",
    "        target = 'saleprice',\n",
    "         random_state = 1,\n",
    "         model_type = RidgeCV,\n",
    "        scaled=True,\n",
    "        test_df = df_test,\n",
    "        model_df = model_df\n",
    "        )"
   ]
  },
  {
   "cell_type": "code",
   "execution_count": null,
   "metadata": {},
   "outputs": [],
   "source": [
    "model_df"
   ]
  },
  {
   "cell_type": "code",
   "execution_count": null,
   "metadata": {},
   "outputs": [],
   "source": []
  }
 ],
 "metadata": {
  "kernelspec": {
   "display_name": "Python [conda env:.conda-dsi] *",
   "language": "python",
   "name": "conda-env-.conda-dsi-py"
  },
  "language_info": {
   "codemirror_mode": {
    "name": "ipython",
    "version": 3
   },
   "file_extension": ".py",
   "mimetype": "text/x-python",
   "name": "python",
   "nbconvert_exporter": "python",
   "pygments_lexer": "ipython3",
   "version": "3.7.4"
  }
 },
 "nbformat": 4,
 "nbformat_minor": 2
}
