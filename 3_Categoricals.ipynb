{
 "cells": [
  {
   "cell_type": "markdown",
   "metadata": {},
   "source": [
    "# Exploratory Data Analysis and Initial Model Creation"
   ]
  },
  {
   "cell_type": "code",
   "execution_count": 35,
   "metadata": {},
   "outputs": [],
   "source": [
    "import pandas as pd\n",
    "import numpy as np\n",
    "import seaborn as sns\n",
    "import matplotlib.pyplot as plt\n",
    "from sklearn.linear_model import LinearRegression, LassoCV, RidgeCV, ElasticNetCV\n",
    "from sklearn.model_selection import train_test_split, KFold, cross_val_score\n",
    "import scipy.stats as stats\n",
    "import modeling\n",
    "import data_viz\n",
    "import data_cleaning\n",
    "import statsmodels.api as sm\n",
    "from sklearn.preprocessing import StandardScaler, PolynomialFeatures\n",
    "%matplotlib inline\n",
    "sns.set(font_scale=1.5)\n"
   ]
  },
  {
   "cell_type": "code",
   "execution_count": 36,
   "metadata": {},
   "outputs": [],
   "source": [
    "df = pd.read_csv('datasets/train_cleaned.csv')\n",
    "df_test = pd.read_csv('datasets/test_cleaned.csv')\n",
    "model_df = pd.read_csv('datasets/models.csv')\n",
    "modeling.test_columns(df=df, df_test=df_test)\n",
    "%store -r features5"
   ]
  },
  {
   "cell_type": "code",
   "execution_count": 37,
   "metadata": {},
   "outputs": [
    {
     "data": {
      "text/plain": [
       "(2034, 87)"
      ]
     },
     "execution_count": 37,
     "metadata": {},
     "output_type": "execute_result"
    }
   ],
   "source": [
    "df.shape"
   ]
  },
  {
   "cell_type": "code",
   "execution_count": 38,
   "metadata": {},
   "outputs": [
    {
     "data": {
      "text/plain": [
       "(879, 206)"
      ]
     },
     "execution_count": 38,
     "metadata": {},
     "output_type": "execute_result"
    }
   ],
   "source": [
    "df_test.shape"
   ]
  },
  {
   "cell_type": "markdown",
   "metadata": {},
   "source": [
    "# EDA for Potential Categorical Features"
   ]
  },
  {
   "cell_type": "code",
   "execution_count": 39,
   "metadata": {},
   "outputs": [],
   "source": [
    "mean_price = df.saleprice.mean()\n",
    "\n",
    "def greater_than_mean(columns,data=df,mean_price=mean_price):\n",
    "    for column in columns:\n",
    "        print(df.groupby(by = column\n",
    "              ).mean()['saleprice'].T.sort_values(ascending=False) >= mean_price)\n",
    "        print('------------------------')\n",
    "potential_cats = ['ms_subclass',\n",
    "                  'lot_config',\n",
    "                  'neighborhood',\n",
    "                  'condition_2',\n",
    "                  'house_style',\n",
    "                  'roof_matl',\n",
    "                  'exterior_1st',\n",
    "                  'exterior_2nd',\n",
    "                  'bsmtfin_type_1',\n",
    "                  'central_air',\n",
    "                  'garage_type'\n",
    "                 ]"
   ]
  },
  {
   "cell_type": "markdown",
   "metadata": {},
   "source": [
    "From this you can you get the info of what items correlate with a higher than the average sale price. Don't run it!"
   ]
  },
  {
   "cell_type": "code",
   "execution_count": null,
   "metadata": {
    "scrolled": false
   },
   "outputs": [],
   "source": [
    "data_viz.graph_greater_than_mean(potential_cats,\n",
    "                       df,\n",
    "                       mean_price+mean_price*.10,\n",
    "                       target='saleprice')\n",
    "plt.savefig('resources/cats_salemean.png')"
   ]
  },
  {
   "cell_type": "markdown",
   "metadata": {},
   "source": [
    "## 1 Hot Creating Dummy Variables for the existing non-numeric variables"
   ]
  },
  {
   "cell_type": "code",
   "execution_count": null,
   "metadata": {},
   "outputs": [],
   "source": [
    "dummy_cols = potential_cats"
   ]
  },
  {
   "cell_type": "code",
   "execution_count": null,
   "metadata": {},
   "outputs": [],
   "source": [
    "df = pd.get_dummies(df, columns=dummy_cols, drop_first=True)\n",
    "df.shape"
   ]
  },
  {
   "cell_type": "code",
   "execution_count": null,
   "metadata": {},
   "outputs": [],
   "source": [
    "df_test = pd.get_dummies(df_test, columns=dummy_cols, drop_first=True)\n",
    "df_test.shape"
   ]
  },
  {
   "cell_type": "markdown",
   "metadata": {},
   "source": [
    "# Export your test data here!"
   ]
  },
  {
   "cell_type": "code",
   "execution_count": null,
   "metadata": {},
   "outputs": [],
   "source": [
    "data_cleaning.snake_df(df)\n",
    "data_cleaning.snake_df(df_test)\n",
    "modeling.test_columns(df, df_test)\n",
    "df.to_csv('datasets/train_cleaned_dummied.csv', index=False)\n",
    "df_test.to_csv('datasets/test_cleaned_dummied.csv', index=False)"
   ]
  },
  {
   "cell_type": "markdown",
   "metadata": {},
   "source": [
    "Reimport it in case you start over again."
   ]
  },
  {
   "cell_type": "code",
   "execution_count": null,
   "metadata": {},
   "outputs": [],
   "source": [
    "df = pd.read_csv('datasets/train_cleaned_dummied.csv')\n",
    "df_test = pd.read_csv('datasets/test_cleaned_dummied.csv')\n",
    "model_df = pd.read_csv('datasets/models.csv')"
   ]
  },
  {
   "cell_type": "code",
   "execution_count": null,
   "metadata": {},
   "outputs": [],
   "source": [
    "df.shape"
   ]
  },
  {
   "cell_type": "code",
   "execution_count": null,
   "metadata": {},
   "outputs": [],
   "source": [
    "df_test.shape"
   ]
  },
  {
   "cell_type": "markdown",
   "metadata": {},
   "source": [
    "## Examining our encoded variables\n",
    "Start over again with the correlation map"
   ]
  },
  {
   "cell_type": "code",
   "execution_count": null,
   "metadata": {},
   "outputs": [],
   "source": [
    "encoded = ['ms_subclass_1-1/2_story_pud_-_all_ages',\n",
    "       'ms_subclass_1-1/2_story_unfinished_all_ages',\n",
    "       'ms_subclass_1-story_1945_older',\n",
    "       'ms_subclass_1-story_1946_newer_all_styles',\n",
    "       'ms_subclass_1-story_finished_attic_all_ages',\n",
    "       'ms_subclass_1-story_pud_(planned_unit_development)_-_1946_newer',\n",
    "       'ms_subclass_2_family_conversion_-_all_styles_and_ages',\n",
    "       'ms_subclass_2-1/2_story_all_ages',\n",
    "       'ms_subclass_2-story_1945_older', 'ms_subclass_2-story_1946_newer',\n",
    "       'ms_subclass_2-story_pud_-_1946_newer',\n",
    "       'ms_subclass_duplex_-_all_styles_and_ages',\n",
    "       'ms_subclass_pud_-_multilevel_-_incl_split_lev/foyer',\n",
    "       'ms_subclass_split_foyer', 'ms_subclass_split_or_multi-level',\n",
    "       'lot_config_culdsac', 'lot_config_fr2', 'lot_config_fr3',\n",
    "       'lot_config_inside', 'neighborhood_blueste', 'neighborhood_brdale',\n",
    "       'neighborhood_brkside', 'neighborhood_clearcr',\n",
    "       'neighborhood_collgcr', 'neighborhood_crawfor',\n",
    "       'neighborhood_edwards', 'neighborhood_gilbert',\n",
    "       'neighborhood_greens', 'neighborhood_grnhill',\n",
    "       'neighborhood_idotrr', 'neighborhood_landmrk',\n",
    "       'neighborhood_meadowv', 'neighborhood_mitchel',\n",
    "       'neighborhood_names', 'neighborhood_noridge',\n",
    "       'neighborhood_npkvill', 'neighborhood_nridght',\n",
    "       'neighborhood_nwames', 'neighborhood_oldtown',\n",
    "       'neighborhood_sawyer', 'neighborhood_sawyerw',\n",
    "       'neighborhood_somerst', 'neighborhood_stonebr',\n",
    "       'neighborhood_swisu', 'neighborhood_timber',\n",
    "       'neighborhood_veenker', 'condition_2_feedr', 'condition_2_norm',\n",
    "       'condition_2_posa', 'condition_2_posn', 'condition_2_rrae',\n",
    "       'condition_2_rran', 'condition_2_rrnn', 'house_style_1.5unf',\n",
    "       'house_style_1story', 'house_style_2.5fin', 'house_style_2.5unf',\n",
    "       'house_style_2story', 'house_style_sfoyer', 'house_style_slvl',\n",
    "       'roof_matl_membran', 'roof_matl_tar&grv', 'roof_matl_wdshake',\n",
    "       'roof_matl_wdshngl', 'exterior_1st_asphshn',\n",
    "       'exterior_1st_brkcomm', 'exterior_1st_brkface',\n",
    "       'exterior_1st_cblock', 'exterior_1st_cemntbd',\n",
    "       'exterior_1st_hdboard', 'exterior_1st_imstucc',\n",
    "       'exterior_1st_metalsd', 'exterior_1st_plywood',\n",
    "       'exterior_1st_stone', 'exterior_1st_stucco',\n",
    "       'exterior_1st_vinylsd', 'exterior_1st_wd_sdng',\n",
    "       'exterior_1st_wdshing', 'exterior_2nd_asphshn',\n",
    "       'exterior_2nd_brk_cmn', 'exterior_2nd_brkface',\n",
    "       'exterior_2nd_cblock', 'exterior_2nd_cmentbd',\n",
    "       'exterior_2nd_hdboard', 'exterior_2nd_imstucc',\n",
    "       'exterior_2nd_metalsd', 'exterior_2nd_plywood',\n",
    "       'exterior_2nd_stone', 'exterior_2nd_stucco',\n",
    "       'exterior_2nd_vinylsd', 'exterior_2nd_wd_sdng',\n",
    "       'exterior_2nd_wd_shng', 'bsmtfin_type_1_blq', 'bsmtfin_type_1_glq',\n",
    "       'bsmtfin_type_1_lwq', 'bsmtfin_type_1_na', 'bsmtfin_type_1_rec',\n",
    "       'bsmtfin_type_1_unf', 'central_air_y', 'garage_type_attchd',\n",
    "       'garage_type_basment', 'garage_type_builtin',\n",
    "       'garage_type_carport', 'garage_type_detchd', 'garage_type_na','logsaleprice']"
   ]
  },
  {
   "cell_type": "code",
   "execution_count": null,
   "metadata": {},
   "outputs": [],
   "source": [
    "np.abs(df[encoded].corr()[['logsaleprice']].sort_values(by='logsaleprice', ascending=False)[:10]) >= .3"
   ]
  },
  {
   "cell_type": "code",
   "execution_count": null,
   "metadata": {
    "scrolled": true
   },
   "outputs": [],
   "source": []
  },
  {
   "cell_type": "code",
   "execution_count": null,
   "metadata": {},
   "outputs": [],
   "source": [
    "features6 = ['bsmtfin_sf_1',\n",
    "'heating_qc',\n",
    "'fireplace_qu',\n",
    "'year_built',\n",
    "'bsmt_qual',\n",
    "'1st_flr_sf',\n",
    "'garage_area',\n",
    "'kitchen_qual',\n",
    "'gr_liv_area',\n",
    "'exter_qual',\n",
    "'overall_qual',\n",
    "'porches',\n",
    "'baths',\n",
    "'open_porch_sf',\n",
    "'full_bath',\n",
    "'lot',\n",
    "'lot_area',\n",
    "'overall_cond',\n",
    "'bsmtfin_sf_1',\n",
    "'2nd_flr_sf',\n",
    "'half_bath',\n",
    "'total_bsmt_sf',\n",
    "'fireplaces',\n",
    "'year_remod/add',\n",
    "'central_air_y',\n",
    "'neighborhood_nridght',\n",
    "'neighborhood_stonebr',\n",
    "'neighborhood_noridge',\n",
    "]\n",
    "\n",
    "target = 'logsaleprice'\n",
    "\n",
    "model_df = modeling.new_test(df = df,\n",
    "        test_df = df_test,\n",
    "        features = features6,\n",
    "        target = target,\n",
    "         random_state = 1,\n",
    "         model_type = LinearRegression,\n",
    "         model_df = model_df,\n",
    "        scaled=False,\n",
    "        );\n",
    "y=df[target]\n",
    "ols_X = sm.add_constant(df[features6])\n",
    "model6_ols = sm.OLS(y,ols_X).fit()\n",
    "model6_ols.summary()"
   ]
  },
  {
   "cell_type": "code",
   "execution_count": null,
   "metadata": {},
   "outputs": [],
   "source": [
    "data_cleaning.snake_df(df)\n",
    "data_cleaning.snake_df(df_test)\n",
    "modeling.test_columns(df, df_test)\n",
    "df.to_csv('datasets/train_cleaned.csv', index=False)\n",
    "df_test.to_csv('datasets/test_cleaned.csv', index=False)\n",
    "model_df.to_csv('datasets/models.csv')"
   ]
  },
  {
   "cell_type": "markdown",
   "metadata": {},
   "source": [
    "### Move on to the last stage: [Algorithmic Parameter Choice & Feature Selection]('4_Algorithmic_feature_parameter_choice.ipynb')"
   ]
  }
 ],
 "metadata": {
  "kernelspec": {
   "display_name": "Python [conda env:.conda-dsi] *",
   "language": "python",
   "name": "conda-env-.conda-dsi-py"
  },
  "language_info": {
   "codemirror_mode": {
    "name": "ipython",
    "version": 3
   },
   "file_extension": ".py",
   "mimetype": "text/x-python",
   "name": "python",
   "nbconvert_exporter": "python",
   "pygments_lexer": "ipython3",
   "version": "3.7.4"
  }
 },
 "nbformat": 4,
 "nbformat_minor": 2
}
