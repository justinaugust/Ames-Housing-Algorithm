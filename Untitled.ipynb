{
 "cells": [
  {
   "cell_type": "code",
   "execution_count": 30,
   "metadata": {},
   "outputs": [],
   "source": [
    "import pandas as pd\n",
    "import numpy as np\n",
    "import missingno as msno\n",
    "import seaborn as sns\n",
    "import matplotlib.pyplot as plt\n",
    "from sklearn.linear_model import LinearRegression\n",
    "from sklearn.model_selection import train_test_split\n",
    "import scipy.stats as stats\n",
    "%matplotlib inline\n",
    "\n"
   ]
  },
  {
   "cell_type": "code",
   "execution_count": 3,
   "metadata": {},
   "outputs": [],
   "source": [
    "df = pd.read_csv('datasets/train.csv')"
   ]
  },
  {
   "cell_type": "code",
   "execution_count": 4,
   "metadata": {},
   "outputs": [
    {
     "data": {
      "text/plain": [
       "Index(['Lot Frontage', 'Alley', 'Mas Vnr Type', 'Mas Vnr Area', 'Bsmt Qual',\n",
       "       'Bsmt Cond', 'Bsmt Exposure', 'BsmtFin Type 1', 'BsmtFin SF 1',\n",
       "       'BsmtFin Type 2', 'BsmtFin SF 2', 'Bsmt Unf SF', 'Total Bsmt SF',\n",
       "       'Bsmt Full Bath', 'Bsmt Half Bath', 'Fireplace Qu', 'Garage Type',\n",
       "       'Garage Yr Blt', 'Garage Finish', 'Garage Cars', 'Garage Area',\n",
       "       'Garage Qual', 'Garage Cond', 'Pool QC', 'Fence', 'Misc Feature'],\n",
       "      dtype='object')"
      ]
     },
     "execution_count": 4,
     "metadata": {},
     "output_type": "execute_result"
    }
   ],
   "source": [
    "df.isnull().mean()[df.isnull().mean() > 0].index"
   ]
  },
  {
   "cell_type": "code",
   "execution_count": 5,
   "metadata": {},
   "outputs": [],
   "source": [
    "numcols = df.select_dtypes(np.number).columns"
   ]
  },
  {
   "cell_type": "code",
   "execution_count": 8,
   "metadata": {},
   "outputs": [
    {
     "data": {
      "text/plain": [
       "Index(['Lot Frontage', 'Mas Vnr Area', 'BsmtFin SF 1', 'BsmtFin SF 2',\n",
       "       'Bsmt Unf SF', 'Total Bsmt SF', 'Bsmt Full Bath', 'Bsmt Half Bath',\n",
       "       'Garage Yr Blt', 'Garage Cars', 'Garage Area'],\n",
       "      dtype='object')"
      ]
     },
     "execution_count": 8,
     "metadata": {},
     "output_type": "execute_result"
    }
   ],
   "source": [
    "df[numcols].mean()[df.isnull().mean() > 0].index"
   ]
  },
  {
   "cell_type": "code",
   "execution_count": 10,
   "metadata": {},
   "outputs": [],
   "source": [
    "strcols = df.select_dtypes(exclude=np.number).columns"
   ]
  },
  {
   "cell_type": "code",
   "execution_count": 12,
   "metadata": {},
   "outputs": [
    {
     "data": {
      "text/html": [
       "<div>\n",
       "<style scoped>\n",
       "    .dataframe tbody tr th:only-of-type {\n",
       "        vertical-align: middle;\n",
       "    }\n",
       "\n",
       "    .dataframe tbody tr th {\n",
       "        vertical-align: top;\n",
       "    }\n",
       "\n",
       "    .dataframe thead th {\n",
       "        text-align: right;\n",
       "    }\n",
       "</style>\n",
       "<table border=\"1\" class=\"dataframe\">\n",
       "  <thead>\n",
       "    <tr style=\"text-align: right;\">\n",
       "      <th></th>\n",
       "      <th>MS Zoning</th>\n",
       "      <th>Street</th>\n",
       "      <th>Alley</th>\n",
       "      <th>Lot Shape</th>\n",
       "      <th>Land Contour</th>\n",
       "      <th>Utilities</th>\n",
       "      <th>Lot Config</th>\n",
       "      <th>Land Slope</th>\n",
       "      <th>Neighborhood</th>\n",
       "      <th>Condition 1</th>\n",
       "      <th>...</th>\n",
       "      <th>Fireplace Qu</th>\n",
       "      <th>Garage Type</th>\n",
       "      <th>Garage Finish</th>\n",
       "      <th>Garage Qual</th>\n",
       "      <th>Garage Cond</th>\n",
       "      <th>Paved Drive</th>\n",
       "      <th>Pool QC</th>\n",
       "      <th>Fence</th>\n",
       "      <th>Misc Feature</th>\n",
       "      <th>Sale Type</th>\n",
       "    </tr>\n",
       "  </thead>\n",
       "  <tbody>\n",
       "    <tr>\n",
       "      <td>0</td>\n",
       "      <td>RL</td>\n",
       "      <td>Pave</td>\n",
       "      <td>NaN</td>\n",
       "      <td>IR1</td>\n",
       "      <td>Lvl</td>\n",
       "      <td>AllPub</td>\n",
       "      <td>CulDSac</td>\n",
       "      <td>Gtl</td>\n",
       "      <td>Sawyer</td>\n",
       "      <td>RRAe</td>\n",
       "      <td>...</td>\n",
       "      <td>NaN</td>\n",
       "      <td>Attchd</td>\n",
       "      <td>RFn</td>\n",
       "      <td>TA</td>\n",
       "      <td>TA</td>\n",
       "      <td>Y</td>\n",
       "      <td>NaN</td>\n",
       "      <td>NaN</td>\n",
       "      <td>NaN</td>\n",
       "      <td>WD</td>\n",
       "    </tr>\n",
       "    <tr>\n",
       "      <td>1</td>\n",
       "      <td>RL</td>\n",
       "      <td>Pave</td>\n",
       "      <td>NaN</td>\n",
       "      <td>IR1</td>\n",
       "      <td>Lvl</td>\n",
       "      <td>AllPub</td>\n",
       "      <td>CulDSac</td>\n",
       "      <td>Gtl</td>\n",
       "      <td>SawyerW</td>\n",
       "      <td>Norm</td>\n",
       "      <td>...</td>\n",
       "      <td>TA</td>\n",
       "      <td>Attchd</td>\n",
       "      <td>RFn</td>\n",
       "      <td>TA</td>\n",
       "      <td>TA</td>\n",
       "      <td>Y</td>\n",
       "      <td>NaN</td>\n",
       "      <td>NaN</td>\n",
       "      <td>NaN</td>\n",
       "      <td>WD</td>\n",
       "    </tr>\n",
       "    <tr>\n",
       "      <td>2</td>\n",
       "      <td>RL</td>\n",
       "      <td>Pave</td>\n",
       "      <td>NaN</td>\n",
       "      <td>Reg</td>\n",
       "      <td>Lvl</td>\n",
       "      <td>AllPub</td>\n",
       "      <td>Inside</td>\n",
       "      <td>Gtl</td>\n",
       "      <td>NAmes</td>\n",
       "      <td>Norm</td>\n",
       "      <td>...</td>\n",
       "      <td>NaN</td>\n",
       "      <td>Detchd</td>\n",
       "      <td>Unf</td>\n",
       "      <td>TA</td>\n",
       "      <td>TA</td>\n",
       "      <td>Y</td>\n",
       "      <td>NaN</td>\n",
       "      <td>NaN</td>\n",
       "      <td>NaN</td>\n",
       "      <td>WD</td>\n",
       "    </tr>\n",
       "    <tr>\n",
       "      <td>3</td>\n",
       "      <td>RL</td>\n",
       "      <td>Pave</td>\n",
       "      <td>NaN</td>\n",
       "      <td>Reg</td>\n",
       "      <td>Lvl</td>\n",
       "      <td>AllPub</td>\n",
       "      <td>Inside</td>\n",
       "      <td>Gtl</td>\n",
       "      <td>Timber</td>\n",
       "      <td>Norm</td>\n",
       "      <td>...</td>\n",
       "      <td>NaN</td>\n",
       "      <td>BuiltIn</td>\n",
       "      <td>Fin</td>\n",
       "      <td>TA</td>\n",
       "      <td>TA</td>\n",
       "      <td>Y</td>\n",
       "      <td>NaN</td>\n",
       "      <td>NaN</td>\n",
       "      <td>NaN</td>\n",
       "      <td>WD</td>\n",
       "    </tr>\n",
       "    <tr>\n",
       "      <td>4</td>\n",
       "      <td>RL</td>\n",
       "      <td>Pave</td>\n",
       "      <td>NaN</td>\n",
       "      <td>IR1</td>\n",
       "      <td>Lvl</td>\n",
       "      <td>AllPub</td>\n",
       "      <td>Inside</td>\n",
       "      <td>Gtl</td>\n",
       "      <td>SawyerW</td>\n",
       "      <td>Norm</td>\n",
       "      <td>...</td>\n",
       "      <td>NaN</td>\n",
       "      <td>Detchd</td>\n",
       "      <td>Unf</td>\n",
       "      <td>TA</td>\n",
       "      <td>TA</td>\n",
       "      <td>N</td>\n",
       "      <td>NaN</td>\n",
       "      <td>NaN</td>\n",
       "      <td>NaN</td>\n",
       "      <td>WD</td>\n",
       "    </tr>\n",
       "    <tr>\n",
       "      <td>...</td>\n",
       "      <td>...</td>\n",
       "      <td>...</td>\n",
       "      <td>...</td>\n",
       "      <td>...</td>\n",
       "      <td>...</td>\n",
       "      <td>...</td>\n",
       "      <td>...</td>\n",
       "      <td>...</td>\n",
       "      <td>...</td>\n",
       "      <td>...</td>\n",
       "      <td>...</td>\n",
       "      <td>...</td>\n",
       "      <td>...</td>\n",
       "      <td>...</td>\n",
       "      <td>...</td>\n",
       "      <td>...</td>\n",
       "      <td>...</td>\n",
       "      <td>...</td>\n",
       "      <td>...</td>\n",
       "      <td>...</td>\n",
       "      <td>...</td>\n",
       "    </tr>\n",
       "    <tr>\n",
       "      <td>2046</td>\n",
       "      <td>RL</td>\n",
       "      <td>Pave</td>\n",
       "      <td>NaN</td>\n",
       "      <td>IR1</td>\n",
       "      <td>HLS</td>\n",
       "      <td>AllPub</td>\n",
       "      <td>Inside</td>\n",
       "      <td>Gtl</td>\n",
       "      <td>Timber</td>\n",
       "      <td>Norm</td>\n",
       "      <td>...</td>\n",
       "      <td>Gd</td>\n",
       "      <td>Attchd</td>\n",
       "      <td>Fin</td>\n",
       "      <td>TA</td>\n",
       "      <td>TA</td>\n",
       "      <td>Y</td>\n",
       "      <td>NaN</td>\n",
       "      <td>NaN</td>\n",
       "      <td>NaN</td>\n",
       "      <td>WD</td>\n",
       "    </tr>\n",
       "    <tr>\n",
       "      <td>2047</td>\n",
       "      <td>RL</td>\n",
       "      <td>Pave</td>\n",
       "      <td>NaN</td>\n",
       "      <td>IR1</td>\n",
       "      <td>Lvl</td>\n",
       "      <td>AllPub</td>\n",
       "      <td>Inside</td>\n",
       "      <td>Gtl</td>\n",
       "      <td>Edwards</td>\n",
       "      <td>Norm</td>\n",
       "      <td>...</td>\n",
       "      <td>NaN</td>\n",
       "      <td>Detchd</td>\n",
       "      <td>Unf</td>\n",
       "      <td>TA</td>\n",
       "      <td>TA</td>\n",
       "      <td>Y</td>\n",
       "      <td>NaN</td>\n",
       "      <td>NaN</td>\n",
       "      <td>NaN</td>\n",
       "      <td>WD</td>\n",
       "    </tr>\n",
       "    <tr>\n",
       "      <td>2048</td>\n",
       "      <td>RL</td>\n",
       "      <td>Pave</td>\n",
       "      <td>NaN</td>\n",
       "      <td>Reg</td>\n",
       "      <td>Bnk</td>\n",
       "      <td>AllPub</td>\n",
       "      <td>Inside</td>\n",
       "      <td>Gtl</td>\n",
       "      <td>Crawfor</td>\n",
       "      <td>Norm</td>\n",
       "      <td>...</td>\n",
       "      <td>TA</td>\n",
       "      <td>Detchd</td>\n",
       "      <td>Unf</td>\n",
       "      <td>Fa</td>\n",
       "      <td>Fa</td>\n",
       "      <td>Y</td>\n",
       "      <td>NaN</td>\n",
       "      <td>NaN</td>\n",
       "      <td>NaN</td>\n",
       "      <td>WD</td>\n",
       "    </tr>\n",
       "    <tr>\n",
       "      <td>2049</td>\n",
       "      <td>RL</td>\n",
       "      <td>Pave</td>\n",
       "      <td>NaN</td>\n",
       "      <td>Reg</td>\n",
       "      <td>Lvl</td>\n",
       "      <td>AllPub</td>\n",
       "      <td>Corner</td>\n",
       "      <td>Gtl</td>\n",
       "      <td>NAmes</td>\n",
       "      <td>Norm</td>\n",
       "      <td>...</td>\n",
       "      <td>Gd</td>\n",
       "      <td>Attchd</td>\n",
       "      <td>Unf</td>\n",
       "      <td>TA</td>\n",
       "      <td>TA</td>\n",
       "      <td>Y</td>\n",
       "      <td>NaN</td>\n",
       "      <td>NaN</td>\n",
       "      <td>NaN</td>\n",
       "      <td>WD</td>\n",
       "    </tr>\n",
       "    <tr>\n",
       "      <td>2050</td>\n",
       "      <td>RL</td>\n",
       "      <td>Pave</td>\n",
       "      <td>NaN</td>\n",
       "      <td>Reg</td>\n",
       "      <td>Lvl</td>\n",
       "      <td>AllPub</td>\n",
       "      <td>Inside</td>\n",
       "      <td>Gtl</td>\n",
       "      <td>Gilbert</td>\n",
       "      <td>Norm</td>\n",
       "      <td>...</td>\n",
       "      <td>TA</td>\n",
       "      <td>Attchd</td>\n",
       "      <td>Fin</td>\n",
       "      <td>TA</td>\n",
       "      <td>TA</td>\n",
       "      <td>Y</td>\n",
       "      <td>NaN</td>\n",
       "      <td>NaN</td>\n",
       "      <td>NaN</td>\n",
       "      <td>WD</td>\n",
       "    </tr>\n",
       "  </tbody>\n",
       "</table>\n",
       "<p>2051 rows × 42 columns</p>\n",
       "</div>"
      ],
      "text/plain": [
       "     MS Zoning Street Alley Lot Shape Land Contour Utilities Lot Config  \\\n",
       "0           RL   Pave   NaN       IR1          Lvl    AllPub    CulDSac   \n",
       "1           RL   Pave   NaN       IR1          Lvl    AllPub    CulDSac   \n",
       "2           RL   Pave   NaN       Reg          Lvl    AllPub     Inside   \n",
       "3           RL   Pave   NaN       Reg          Lvl    AllPub     Inside   \n",
       "4           RL   Pave   NaN       IR1          Lvl    AllPub     Inside   \n",
       "...        ...    ...   ...       ...          ...       ...        ...   \n",
       "2046        RL   Pave   NaN       IR1          HLS    AllPub     Inside   \n",
       "2047        RL   Pave   NaN       IR1          Lvl    AllPub     Inside   \n",
       "2048        RL   Pave   NaN       Reg          Bnk    AllPub     Inside   \n",
       "2049        RL   Pave   NaN       Reg          Lvl    AllPub     Corner   \n",
       "2050        RL   Pave   NaN       Reg          Lvl    AllPub     Inside   \n",
       "\n",
       "     Land Slope Neighborhood Condition 1  ... Fireplace Qu Garage Type  \\\n",
       "0           Gtl       Sawyer        RRAe  ...          NaN      Attchd   \n",
       "1           Gtl      SawyerW        Norm  ...           TA      Attchd   \n",
       "2           Gtl        NAmes        Norm  ...          NaN      Detchd   \n",
       "3           Gtl       Timber        Norm  ...          NaN     BuiltIn   \n",
       "4           Gtl      SawyerW        Norm  ...          NaN      Detchd   \n",
       "...         ...          ...         ...  ...          ...         ...   \n",
       "2046        Gtl       Timber        Norm  ...           Gd      Attchd   \n",
       "2047        Gtl      Edwards        Norm  ...          NaN      Detchd   \n",
       "2048        Gtl      Crawfor        Norm  ...           TA      Detchd   \n",
       "2049        Gtl        NAmes        Norm  ...           Gd      Attchd   \n",
       "2050        Gtl      Gilbert        Norm  ...           TA      Attchd   \n",
       "\n",
       "     Garage Finish Garage Qual Garage Cond Paved Drive Pool QC Fence  \\\n",
       "0              RFn          TA          TA           Y     NaN   NaN   \n",
       "1              RFn          TA          TA           Y     NaN   NaN   \n",
       "2              Unf          TA          TA           Y     NaN   NaN   \n",
       "3              Fin          TA          TA           Y     NaN   NaN   \n",
       "4              Unf          TA          TA           N     NaN   NaN   \n",
       "...            ...         ...         ...         ...     ...   ...   \n",
       "2046           Fin          TA          TA           Y     NaN   NaN   \n",
       "2047           Unf          TA          TA           Y     NaN   NaN   \n",
       "2048           Unf          Fa          Fa           Y     NaN   NaN   \n",
       "2049           Unf          TA          TA           Y     NaN   NaN   \n",
       "2050           Fin          TA          TA           Y     NaN   NaN   \n",
       "\n",
       "     Misc Feature Sale Type  \n",
       "0             NaN       WD   \n",
       "1             NaN       WD   \n",
       "2             NaN       WD   \n",
       "3             NaN       WD   \n",
       "4             NaN       WD   \n",
       "...           ...       ...  \n",
       "2046          NaN       WD   \n",
       "2047          NaN       WD   \n",
       "2048          NaN       WD   \n",
       "2049          NaN       WD   \n",
       "2050          NaN       WD   \n",
       "\n",
       "[2051 rows x 42 columns]"
      ]
     },
     "execution_count": 12,
     "metadata": {},
     "output_type": "execute_result"
    }
   ],
   "source": [
    "df[strcols]"
   ]
  },
  {
   "cell_type": "code",
   "execution_count": 13,
   "metadata": {},
   "outputs": [],
   "source": [
    "def null_treat(df):\n",
    "    print(f'The data has {df.shape[0]} rows and {df.shape[1]} columns')\n",
    "    numcols = df.select_dtypes(np.number).columns\n",
    "    strcols = df.select_dtypes(exclude=np.number).columns\n",
    "    \n",
    "    \n"
   ]
  },
  {
   "cell_type": "code",
   "execution_count": 14,
   "metadata": {},
   "outputs": [
    {
     "name": "stdout",
     "output_type": "stream",
     "text": [
      "The data has 2051 rows and 81 columns\n"
     ]
    }
   ],
   "source": [
    "null_treat(df)"
   ]
  },
  {
   "cell_type": "code",
   "execution_count": 15,
   "metadata": {},
   "outputs": [],
   "source": [
    "def null_treatment_function(data):\n",
    "    \"\"\"\n",
    "    eda_function will return a summary of important characteristics of the data\n",
    "    \n",
    "    Returns:\n",
    "        Tuple\n",
    "        - List of numeric columns\n",
    "        - List of nominal columns   \n",
    "    \"\"\"\n",
    "    print(f'The data has {data.shape[0]} rows and {data.shape[1]} columns.\\n')\n",
    "    \n",
    "    null_cols = data.isnull().mean()[data.isnull().mean() > 0].index\n",
    "    if len(null_cols) > 0:\n",
    "        null_vals = data[null_cols].isnull().mean().values\n",
    "        for i, col in enumerate(null_cols):\n",
    "            print(f'Column: \"{col}\" has {np.round(null_vals[i] * 100, 2)}% null values.')\n",
    "    else:\n",
    "        print('There are no null values.')\n",
    "        \n",
    "    numeric_cols = data.select_dtypes(include='number').columns\n",
    "    print(f'\\nNumeric columns: {numeric_cols.values}.')\n",
    "    nominal_cols = data.select_dtypes(exclude='number').columns\n",
    "    print(f'\\nNominal columns: {nominal_cols.values}')\n",
    "    \n",
    "    return numeric_cols, nominal_cols"
   ]
  },
  {
   "cell_type": "code",
   "execution_count": 17,
   "metadata": {},
   "outputs": [
    {
     "name": "stdout",
     "output_type": "stream",
     "text": [
      "The data has 2051 rows and 81 columns.\n",
      "\n",
      "Column: \"Lot Frontage\" has 16.09% null values.\n",
      "Column: \"Alley\" has 93.17% null values.\n",
      "Column: \"Mas Vnr Type\" has 1.07% null values.\n",
      "Column: \"Mas Vnr Area\" has 1.07% null values.\n",
      "Column: \"Bsmt Qual\" has 2.68% null values.\n",
      "Column: \"Bsmt Cond\" has 2.68% null values.\n",
      "Column: \"Bsmt Exposure\" has 2.83% null values.\n",
      "Column: \"BsmtFin Type 1\" has 2.68% null values.\n",
      "Column: \"BsmtFin SF 1\" has 0.05% null values.\n",
      "Column: \"BsmtFin Type 2\" has 2.73% null values.\n",
      "Column: \"BsmtFin SF 2\" has 0.05% null values.\n",
      "Column: \"Bsmt Unf SF\" has 0.05% null values.\n",
      "Column: \"Total Bsmt SF\" has 0.05% null values.\n",
      "Column: \"Bsmt Full Bath\" has 0.1% null values.\n",
      "Column: \"Bsmt Half Bath\" has 0.1% null values.\n",
      "Column: \"Fireplace Qu\" has 48.76% null values.\n",
      "Column: \"Garage Type\" has 5.51% null values.\n",
      "Column: \"Garage Yr Blt\" has 5.56% null values.\n",
      "Column: \"Garage Finish\" has 5.56% null values.\n",
      "Column: \"Garage Cars\" has 0.05% null values.\n",
      "Column: \"Garage Area\" has 0.05% null values.\n",
      "Column: \"Garage Qual\" has 5.56% null values.\n",
      "Column: \"Garage Cond\" has 5.56% null values.\n",
      "Column: \"Pool QC\" has 99.56% null values.\n",
      "Column: \"Fence\" has 80.5% null values.\n",
      "Column: \"Misc Feature\" has 96.83% null values.\n",
      "\n",
      "Numeric columns: ['Id' 'PID' 'MS SubClass' 'Lot Frontage' 'Lot Area' 'Overall Qual'\n",
      " 'Overall Cond' 'Year Built' 'Year Remod/Add' 'Mas Vnr Area'\n",
      " 'BsmtFin SF 1' 'BsmtFin SF 2' 'Bsmt Unf SF' 'Total Bsmt SF' '1st Flr SF'\n",
      " '2nd Flr SF' 'Low Qual Fin SF' 'Gr Liv Area' 'Bsmt Full Bath'\n",
      " 'Bsmt Half Bath' 'Full Bath' 'Half Bath' 'Bedroom AbvGr' 'Kitchen AbvGr'\n",
      " 'TotRms AbvGrd' 'Fireplaces' 'Garage Yr Blt' 'Garage Cars' 'Garage Area'\n",
      " 'Wood Deck SF' 'Open Porch SF' 'Enclosed Porch' '3Ssn Porch'\n",
      " 'Screen Porch' 'Pool Area' 'Misc Val' 'Mo Sold' 'Yr Sold' 'SalePrice'].\n",
      "\n",
      "Nominal columns: ['MS Zoning' 'Street' 'Alley' 'Lot Shape' 'Land Contour' 'Utilities'\n",
      " 'Lot Config' 'Land Slope' 'Neighborhood' 'Condition 1' 'Condition 2'\n",
      " 'Bldg Type' 'House Style' 'Roof Style' 'Roof Matl' 'Exterior 1st'\n",
      " 'Exterior 2nd' 'Mas Vnr Type' 'Exter Qual' 'Exter Cond' 'Foundation'\n",
      " 'Bsmt Qual' 'Bsmt Cond' 'Bsmt Exposure' 'BsmtFin Type 1' 'BsmtFin Type 2'\n",
      " 'Heating' 'Heating QC' 'Central Air' 'Electrical' 'Kitchen Qual'\n",
      " 'Functional' 'Fireplace Qu' 'Garage Type' 'Garage Finish' 'Garage Qual'\n",
      " 'Garage Cond' 'Paved Drive' 'Pool QC' 'Fence' 'Misc Feature' 'Sale Type']\n"
     ]
    },
    {
     "data": {
      "text/plain": [
       "(Index(['Id', 'PID', 'MS SubClass', 'Lot Frontage', 'Lot Area', 'Overall Qual',\n",
       "        'Overall Cond', 'Year Built', 'Year Remod/Add', 'Mas Vnr Area',\n",
       "        'BsmtFin SF 1', 'BsmtFin SF 2', 'Bsmt Unf SF', 'Total Bsmt SF',\n",
       "        '1st Flr SF', '2nd Flr SF', 'Low Qual Fin SF', 'Gr Liv Area',\n",
       "        'Bsmt Full Bath', 'Bsmt Half Bath', 'Full Bath', 'Half Bath',\n",
       "        'Bedroom AbvGr', 'Kitchen AbvGr', 'TotRms AbvGrd', 'Fireplaces',\n",
       "        'Garage Yr Blt', 'Garage Cars', 'Garage Area', 'Wood Deck SF',\n",
       "        'Open Porch SF', 'Enclosed Porch', '3Ssn Porch', 'Screen Porch',\n",
       "        'Pool Area', 'Misc Val', 'Mo Sold', 'Yr Sold', 'SalePrice'],\n",
       "       dtype='object'),\n",
       " Index(['MS Zoning', 'Street', 'Alley', 'Lot Shape', 'Land Contour',\n",
       "        'Utilities', 'Lot Config', 'Land Slope', 'Neighborhood', 'Condition 1',\n",
       "        'Condition 2', 'Bldg Type', 'House Style', 'Roof Style', 'Roof Matl',\n",
       "        'Exterior 1st', 'Exterior 2nd', 'Mas Vnr Type', 'Exter Qual',\n",
       "        'Exter Cond', 'Foundation', 'Bsmt Qual', 'Bsmt Cond', 'Bsmt Exposure',\n",
       "        'BsmtFin Type 1', 'BsmtFin Type 2', 'Heating', 'Heating QC',\n",
       "        'Central Air', 'Electrical', 'Kitchen Qual', 'Functional',\n",
       "        'Fireplace Qu', 'Garage Type', 'Garage Finish', 'Garage Qual',\n",
       "        'Garage Cond', 'Paved Drive', 'Pool QC', 'Fence', 'Misc Feature',\n",
       "        'Sale Type'],\n",
       "       dtype='object'))"
      ]
     },
     "execution_count": 17,
     "metadata": {},
     "output_type": "execute_result"
    }
   ],
   "source": [
    "null_treatment_function(df)"
   ]
  },
  {
   "cell_type": "code",
   "execution_count": 19,
   "metadata": {},
   "outputs": [
    {
     "data": {
      "text/html": [
       "<div>\n",
       "<style scoped>\n",
       "    .dataframe tbody tr th:only-of-type {\n",
       "        vertical-align: middle;\n",
       "    }\n",
       "\n",
       "    .dataframe tbody tr th {\n",
       "        vertical-align: top;\n",
       "    }\n",
       "\n",
       "    .dataframe thead th {\n",
       "        text-align: right;\n",
       "    }\n",
       "</style>\n",
       "<table border=\"1\" class=\"dataframe\">\n",
       "  <thead>\n",
       "    <tr style=\"text-align: right;\">\n",
       "      <th></th>\n",
       "      <th>crime</th>\n",
       "      <th>zone</th>\n",
       "      <th>industry</th>\n",
       "      <th>river_adjacent</th>\n",
       "      <th>nitric_oxide</th>\n",
       "      <th>rooms</th>\n",
       "      <th>age</th>\n",
       "      <th>employment_remoteness</th>\n",
       "      <th>highway_remoteness</th>\n",
       "      <th>tax_property</th>\n",
       "      <th>pupil_teacher</th>\n",
       "      <th>lower_class_prop</th>\n",
       "      <th>median_value</th>\n",
       "    </tr>\n",
       "  </thead>\n",
       "  <tbody>\n",
       "    <tr>\n",
       "      <td>0</td>\n",
       "      <td>0.00632</td>\n",
       "      <td>18.0</td>\n",
       "      <td>2.31</td>\n",
       "      <td>0.0</td>\n",
       "      <td>0.538</td>\n",
       "      <td>6.575</td>\n",
       "      <td>65.2</td>\n",
       "      <td>4.0900</td>\n",
       "      <td>1.0</td>\n",
       "      <td>296.0</td>\n",
       "      <td>15.3</td>\n",
       "      <td>4.98</td>\n",
       "      <td>24.0</td>\n",
       "    </tr>\n",
       "    <tr>\n",
       "      <td>1</td>\n",
       "      <td>0.02731</td>\n",
       "      <td>0.0</td>\n",
       "      <td>7.07</td>\n",
       "      <td>0.0</td>\n",
       "      <td>0.469</td>\n",
       "      <td>6.421</td>\n",
       "      <td>78.9</td>\n",
       "      <td>4.9671</td>\n",
       "      <td>2.0</td>\n",
       "      <td>242.0</td>\n",
       "      <td>17.8</td>\n",
       "      <td>9.14</td>\n",
       "      <td>21.6</td>\n",
       "    </tr>\n",
       "    <tr>\n",
       "      <td>2</td>\n",
       "      <td>0.02729</td>\n",
       "      <td>0.0</td>\n",
       "      <td>7.07</td>\n",
       "      <td>0.0</td>\n",
       "      <td>0.469</td>\n",
       "      <td>7.185</td>\n",
       "      <td>61.1</td>\n",
       "      <td>4.9671</td>\n",
       "      <td>2.0</td>\n",
       "      <td>242.0</td>\n",
       "      <td>17.8</td>\n",
       "      <td>4.03</td>\n",
       "      <td>34.7</td>\n",
       "    </tr>\n",
       "    <tr>\n",
       "      <td>3</td>\n",
       "      <td>0.03237</td>\n",
       "      <td>0.0</td>\n",
       "      <td>2.18</td>\n",
       "      <td>0.0</td>\n",
       "      <td>0.458</td>\n",
       "      <td>6.998</td>\n",
       "      <td>45.8</td>\n",
       "      <td>6.0622</td>\n",
       "      <td>3.0</td>\n",
       "      <td>222.0</td>\n",
       "      <td>18.7</td>\n",
       "      <td>2.94</td>\n",
       "      <td>33.4</td>\n",
       "    </tr>\n",
       "    <tr>\n",
       "      <td>4</td>\n",
       "      <td>0.06905</td>\n",
       "      <td>0.0</td>\n",
       "      <td>2.18</td>\n",
       "      <td>0.0</td>\n",
       "      <td>0.458</td>\n",
       "      <td>7.147</td>\n",
       "      <td>54.2</td>\n",
       "      <td>6.0622</td>\n",
       "      <td>3.0</td>\n",
       "      <td>222.0</td>\n",
       "      <td>18.7</td>\n",
       "      <td>5.33</td>\n",
       "      <td>36.2</td>\n",
       "    </tr>\n",
       "  </tbody>\n",
       "</table>\n",
       "</div>"
      ],
      "text/plain": [
       "     crime  zone  industry  river_adjacent  nitric_oxide  rooms   age  \\\n",
       "0  0.00632  18.0      2.31             0.0         0.538  6.575  65.2   \n",
       "1  0.02731   0.0      7.07             0.0         0.469  6.421  78.9   \n",
       "2  0.02729   0.0      7.07             0.0         0.469  7.185  61.1   \n",
       "3  0.03237   0.0      2.18             0.0         0.458  6.998  45.8   \n",
       "4  0.06905   0.0      2.18             0.0         0.458  7.147  54.2   \n",
       "\n",
       "   employment_remoteness  highway_remoteness  tax_property  pupil_teacher  \\\n",
       "0                 4.0900                 1.0         296.0           15.3   \n",
       "1                 4.9671                 2.0         242.0           17.8   \n",
       "2                 4.9671                 2.0         242.0           17.8   \n",
       "3                 6.0622                 3.0         222.0           18.7   \n",
       "4                 6.0622                 3.0         222.0           18.7   \n",
       "\n",
       "   lower_class_prop  median_value  \n",
       "0              4.98          24.0  \n",
       "1              9.14          21.6  \n",
       "2              4.03          34.7  \n",
       "3              2.94          33.4  \n",
       "4              5.33          36.2  "
      ]
     },
     "execution_count": 19,
     "metadata": {},
     "output_type": "execute_result"
    }
   ],
   "source": [
    "df = pd.read_csv('boston_housing.csv')\n",
    "df.head()"
   ]
  },
  {
   "cell_type": "code",
   "execution_count": 20,
   "metadata": {},
   "outputs": [
    {
     "name": "stdout",
     "output_type": "stream",
     "text": [
      "The data has 506 rows and 13 columns.\n",
      "\n",
      "There are no null values.\n",
      "\n",
      "Numeric columns: ['crime' 'zone' 'industry' 'river_adjacent' 'nitric_oxide' 'rooms' 'age'\n",
      " 'employment_remoteness' 'highway_remoteness' 'tax_property'\n",
      " 'pupil_teacher' 'lower_class_prop' 'median_value'].\n",
      "\n",
      "Nominal columns: []\n"
     ]
    },
    {
     "data": {
      "text/plain": [
       "(Index(['crime', 'zone', 'industry', 'river_adjacent', 'nitric_oxide', 'rooms',\n",
       "        'age', 'employment_remoteness', 'highway_remoteness', 'tax_property',\n",
       "        'pupil_teacher', 'lower_class_prop', 'median_value'],\n",
       "       dtype='object'), Index([], dtype='object'))"
      ]
     },
     "execution_count": 20,
     "metadata": {},
     "output_type": "execute_result"
    }
   ],
   "source": [
    "null_treatment_function(df)"
   ]
  },
  {
   "cell_type": "code",
   "execution_count": 28,
   "metadata": {},
   "outputs": [
    {
     "data": {
      "image/png": "[encoded data removed]",
      "text/plain": [
       "<Figure size 1080x1440 with 2 Axes>"
      ]
     },
     "metadata": {
      "needs_background": "light"
     },
     "output_type": "display_data"
    }
   ],
   "source": [
    "plt.figure(figsize=(15,20))\n",
    "sns.heatmap(df.corr()[['median_value']].sort_values(by = 'median_value', \n",
    "                                                ascending=False),\n",
    "           annot = True,\n",
    "           cmap='RdBu_r',\n",
    "           );"
   ]
  },
  {
   "cell_type": "code",
   "execution_count": 29,
   "metadata": {},
   "outputs": [],
   "source": [
    "features = ['rooms',\n",
    "            'pupil_teacher',\n",
    "            'lower_class_prop'\n",
    "           ]\n",
    "X = df[features]\n",
    "y = df['median_value']"
   ]
  },
  {
   "cell_type": "code",
   "execution_count": 32,
   "metadata": {},
   "outputs": [],
   "source": [
    "X_train, X_test, y_train, y_test = train_test_split(X,y,\n",
    "                                                    random_state=42,\n",
    "                                                    shuffle = True,\n",
    "                                                    train_size = .7,\n",
    "                                                   )"
   ]
  },
  {
   "cell_type": "code",
   "execution_count": 33,
   "metadata": {},
   "outputs": [],
   "source": [
    "lr = LinearRegression()"
   ]
  },
  {
   "cell_type": "code",
   "execution_count": 37,
   "metadata": {},
   "outputs": [
    {
     "data": {
      "text/plain": [
       "LinearRegression(copy_X=True, fit_intercept=True, n_jobs=None, normalize=False)"
      ]
     },
     "execution_count": 37,
     "metadata": {},
     "output_type": "execute_result"
    }
   ],
   "source": [
    "lr.fit(X_train,y_train)"
   ]
  },
  {
   "cell_type": "code",
   "execution_count": 40,
   "metadata": {},
   "outputs": [
    {
     "data": {
      "text/plain": [
       "array([ 4.46162598, -0.86290452, -0.60815   ])"
      ]
     },
     "execution_count": 40,
     "metadata": {},
     "output_type": "execute_result"
    }
   ],
   "source": [
    "lr.coef_"
   ]
  },
  {
   "cell_type": "code",
   "execution_count": 41,
   "metadata": {},
   "outputs": [
    {
     "data": {
      "text/plain": [
       "18.119085045192"
      ]
     },
     "execution_count": 41,
     "metadata": {},
     "output_type": "execute_result"
    }
   ],
   "source": [
    "lr.intercept_"
   ]
  },
  {
   "cell_type": "code",
   "execution_count": 35,
   "metadata": {},
   "outputs": [
    {
     "data": {
      "text/plain": [
       "0.6850018441906278"
      ]
     },
     "execution_count": 35,
     "metadata": {},
     "output_type": "execute_result"
    }
   ],
   "source": [
    "lr.score(X_train,y_train)"
   ]
  },
  {
   "cell_type": "code",
   "execution_count": 36,
   "metadata": {},
   "outputs": [
    {
     "data": {
      "text/plain": [
       "0.650904156861472"
      ]
     },
     "execution_count": 36,
     "metadata": {},
     "output_type": "execute_result"
    }
   ],
   "source": [
    "lr.score(X_test,y_test)"
   ]
  },
  {
   "cell_type": "code",
   "execution_count": null,
   "metadata": {},
   "outputs": [],
   "source": []
  },
  {
   "cell_type": "code",
   "execution_count": null,
   "metadata": {},
   "outputs": [],
   "source": []
  }
 ],
 "metadata": {
  "kernelspec": {
   "display_name": "Python [conda env:.conda-dsi] *",
   "language": "python",
   "name": "conda-env-.conda-dsi-py"
  },
  "language_info": {
   "codemirror_mode": {
    "name": "ipython",
    "version": 3
   },
   "file_extension": ".py",
   "mimetype": "text/x-python",
   "name": "python",
   "nbconvert_exporter": "python",
   "pygments_lexer": "ipython3",
   "version": "3.7.3"
  }
 },
 "nbformat": 4,
 "nbformat_minor": 2
}
